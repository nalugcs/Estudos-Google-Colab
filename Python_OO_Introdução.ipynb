{
  "nbformat": 4,
  "nbformat_minor": 0,
  "metadata": {
    "colab": {
      "name": "Python OO - Introdução.ipynb",
      "provenance": [],
      "authorship_tag": "ABX9TyOAmVNu20AbHvP4rFSt0WHJ",
      "include_colab_link": true
    },
    "kernelspec": {
      "name": "python3",
      "display_name": "Python 3"
    },
    "language_info": {
      "name": "python"
    }
  },
  "cells": [
    {
      "cell_type": "markdown",
      "metadata": {
        "id": "view-in-github",
        "colab_type": "text"
      },
      "source": [
        "<a href=\"https://colab.research.google.com/github/nalugcs/Estudos-Google-Colab/blob/Estudos/Python_OO_Introdu%C3%A7%C3%A3o.ipynb\" target=\"_parent\"><img src=\"https://colab.research.google.com/assets/colab-badge.svg\" alt=\"Open In Colab\"/></a>"
      ]
    },
    {
      "cell_type": "markdown",
      "metadata": {
        "id": "q4nPAiPf-InV"
      },
      "source": [
        "#**Introdução a Orientação a Objetos - Python (Alura)**\n",
        "\n",
        "####Agosto de 2021\n",
        "#####Ana Luiza Gonçalves César"
      ]
    },
    {
      "cell_type": "code",
      "metadata": {
        "id": "BSA4AgoP-EuV"
      },
      "source": [
        "#dados separados\n",
        "\n",
        "numero = 123\n",
        "titular = \"Ana\"\n",
        "saldo = 10.00\n",
        "limite = 1000.00"
      ],
      "execution_count": null,
      "outputs": []
    },
    {
      "cell_type": "code",
      "metadata": {
        "id": "Y4earfij-P3a"
      },
      "source": [
        "#dados agrupados em conta\n",
        "conta = {\"numero\": 123, \"titular\": \"Ana\", \"saldo\": 10.00, \"limite\": 1000.00}"
      ],
      "execution_count": null,
      "outputs": []
    },
    {
      "cell_type": "code",
      "metadata": {
        "colab": {
          "base_uri": "https://localhost:8080/",
          "height": 35
        },
        "id": "40Aj_qTp-Rb5",
        "outputId": "137c1e9a-8b4e-4f84-9aaf-0083939ee423"
      },
      "source": [
        "#escolher o dado que quer apresentar da conta\n",
        "\n",
        "conta[\"titular\"]"
      ],
      "execution_count": null,
      "outputs": [
        {
          "output_type": "execute_result",
          "data": {
            "application/vnd.google.colaboratory.intrinsic+json": {
              "type": "string"
            },
            "text/plain": [
              "'Ana'"
            ]
          },
          "metadata": {
            "tags": []
          },
          "execution_count": 3
        }
      ]
    },
    {
      "cell_type": "code",
      "metadata": {
        "id": "X5Cnejz4-TNp"
      },
      "source": [
        "#criar função para encapsular os codigos -> fazer várias contas sem precisar repitir linhas\n",
        "\n",
        "def cria_conta(numeo, titular, saldo, limite):\n",
        "  conta = {\"numero\": numero, \"titular\": titular, \"saldo\": saldo, \"limite\": limite}\n",
        "  return conta "
      ],
      "execution_count": null,
      "outputs": []
    },
    {
      "cell_type": "code",
      "metadata": {
        "id": "sZ9kB8vk-Un4"
      },
      "source": [
        "conta = cria_conta(123,\"Iron\",5.00,100.00)"
      ],
      "execution_count": null,
      "outputs": []
    },
    {
      "cell_type": "code",
      "metadata": {
        "colab": {
          "base_uri": "https://localhost:8080/"
        },
        "id": "HELzG3LP-V4J",
        "outputId": "b8f2ad4a-fc8e-4773-c17f-86f635328a57"
      },
      "source": [
        "conta"
      ],
      "execution_count": null,
      "outputs": [
        {
          "output_type": "execute_result",
          "data": {
            "text/plain": [
              "{'limite': 100.0, 'numero': 123, 'saldo': 5.0, 'titular': 'Iron'}"
            ]
          },
          "metadata": {
            "tags": []
          },
          "execution_count": 6
        }
      ]
    },
    {
      "cell_type": "code",
      "metadata": {
        "id": "PZMBq4N7-W9Z"
      },
      "source": [
        "#definindo métodos:\n",
        "\n",
        "def deposita(conta, valor):\n",
        "  conta[\"saldo\"] += valor\n",
        "\n",
        "def saca(conta, valor):\n",
        "  conta[\"saldo\"] -= valor\n",
        "\n",
        "def extrato(conta):\n",
        "  print(\"O seu saldo é: {}\".format(conta[\"saldo\"]))"
      ],
      "execution_count": null,
      "outputs": []
    },
    {
      "cell_type": "code",
      "metadata": {
        "colab": {
          "base_uri": "https://localhost:8080/"
        },
        "id": "4U5tf2Pl-ZbR",
        "outputId": "8202b4ef-2cd3-4942-c8e8-bea7bfaa9370"
      },
      "source": [
        "extrato(conta)"
      ],
      "execution_count": null,
      "outputs": [
        {
          "output_type": "stream",
          "text": [
            "O seu saldo é: 5.0\n"
          ],
          "name": "stdout"
        }
      ]
    },
    {
      "cell_type": "code",
      "metadata": {
        "colab": {
          "base_uri": "https://localhost:8080/"
        },
        "id": "nAVpMo4D-agx",
        "outputId": "78286280-cf2f-4705-f547-633176460737"
      },
      "source": [
        "deposita(conta,300.0)\n",
        "extrato(conta)"
      ],
      "execution_count": null,
      "outputs": [
        {
          "output_type": "stream",
          "text": [
            "O seu saldo é: 305.0\n"
          ],
          "name": "stdout"
        }
      ]
    },
    {
      "cell_type": "code",
      "metadata": {
        "id": "bYy0msIz-oQd"
      },
      "source": [
        "#salvou a conta em um lugar especifico\n",
        "conta"
      ],
      "execution_count": null,
      "outputs": []
    },
    {
      "cell_type": "code",
      "metadata": {
        "id": "hG7oXUEX-bjp"
      },
      "source": [
        "#criação de classe com as funções (consta dentro de teste.py):\n",
        "\n",
        "class Conta:\n",
        "  def __init__(self, numero, titular, saldo, limite):\n",
        "    # \"__\" significa que o atributo é privado\n",
        "    self.__numero = numero\n",
        "    self.__titular = titular\n",
        "    self.__saldo = saldo\n",
        "    self.__limite = limite\n",
        "\n",
        "  def extrato(self):\n",
        "    print(\"Saldo de {} do Titular {}\".format(self.__saldo, self.__titular))\n",
        "  \n",
        "  def deposita(self, valor):\n",
        "    self.__saldo += valor\n",
        "\n",
        "  #Este método so pode ser usado para outro método e não pelo usuário/dev por isso o uso de \"__\" antes do nome do método\n",
        "  def __pode_sacar(self):\n",
        "    valor_disponivel: self.__saldo + self.__limite\n",
        "    return valor_a_sacar <= valor_disponivel\n",
        "  \n",
        "  def saca(self, valor):\n",
        "    if (self.__pode_sacar(valor)):\n",
        "      self.__saldo -= valor\n",
        "      print(\"Saque realizado no valor de R$ {}\".format(valor))\n",
        "    else:\n",
        "      print(\"O valor deseja ultrapassa o valor máximo liberado para saque.\")\n",
        "\n",
        "  def transfere(self, valor, destino):\n",
        "    self.saca(valor)\n",
        "    destino.deposita(valor)\n",
        "\n",
        "#Os exemplos abaixo são getters, apenas visualizam os dados existentes:\n",
        "  @property\n",
        "  def saldo(self):\n",
        "    return self.__saldo\n",
        "\n",
        "  @property\n",
        "  def limite(self):\n",
        "    return self.__limite\n",
        "    \n",
        "  @property\n",
        "  def gtitular(self):\n",
        "    return self.__titular\n",
        "\n",
        "\n",
        "#para ser estático:\n",
        "  @staticmethod\n",
        "  def codigo_banco():\n",
        "    return \"001\"\n",
        "\n",
        "  @staticmethod\n",
        "  def codigos_bancos():\n",
        "    #usar o dicionário de dados:\n",
        "    return {'BB': '001', 'Caixa': '104', 'Bradesco': '237'}\n",
        "\n",
        "#Os setters alteram, inserem um novo valor:\n",
        "  @limite.setter\n",
        "  def limite(self, limite):\n",
        "    self.__limite = limite\n",
        "\n",
        "\n",
        "class Cliente:\n",
        "  def __init__(self, nome):\n",
        "    self.__nome = nome\n",
        "\n",
        "#propriedades, não precisa colocar os parentes para executar esta função:\n",
        "  @property\n",
        "  def nome(self):\n",
        "    return self.__nome.title()\n",
        "\n",
        "#criar um setter sem colocar set na frente:\n",
        "  @nome.setter\n",
        "  def nome(self,nome):\n",
        "    self.__nome = nome\n",
        "\n",
        "  #def inadimplente(self, cliente):\n",
        "    #pessoa é inadimplente e não a conta por isto está em outra classe"
      ],
      "execution_count": null,
      "outputs": []
    },
    {
      "cell_type": "code",
      "metadata": {
        "id": "uVgaaJgS-eLJ"
      },
      "source": [
        "conta_teste = Conta(12,\"Amanda\",100.00,1000.00)"
      ],
      "execution_count": null,
      "outputs": []
    },
    {
      "cell_type": "code",
      "metadata": {
        "colab": {
          "base_uri": "https://localhost:8080/"
        },
        "id": "gGbUBW4x-qRQ",
        "outputId": "47967e29-3f2f-47b6-8b49-e58abcdc00ed"
      },
      "source": [
        "conta_teste.extrato()"
      ],
      "execution_count": null,
      "outputs": [
        {
          "output_type": "stream",
          "text": [
            "Saldo de 100.0 do Titular Amanda\n"
          ],
          "name": "stdout"
        }
      ]
    },
    {
      "cell_type": "code",
      "metadata": {
        "colab": {
          "base_uri": "https://localhost:8080/"
        },
        "id": "Q8c3PPyn-rVH",
        "outputId": "994fdbbe-930e-4b5b-ec84-387fad00fa62"
      },
      "source": [
        "# Acessar tributo que está privado:\n",
        "\n",
        "conta_teste._Conta__saldo"
      ],
      "execution_count": null,
      "outputs": [
        {
          "output_type": "execute_result",
          "data": {
            "text/plain": [
              "100.0"
            ]
          },
          "metadata": {
            "tags": []
          },
          "execution_count": 53
        }
      ]
    },
    {
      "cell_type": "code",
      "metadata": {
        "id": "SLATOGT2-sop"
      },
      "source": [
        "conta_teste2 = Conta(415,\"Paolo\",50.0,500.00)"
      ],
      "execution_count": null,
      "outputs": []
    },
    {
      "cell_type": "code",
      "metadata": {
        "id": "jQ2pFy1x-tpn"
      },
      "source": [
        "#Transferir na mão:\n",
        "\n",
        "valor = 10.0\n",
        "\n",
        "conta_teste.saca(valor)\n",
        "conta_teste2.deposita(valor)"
      ],
      "execution_count": null,
      "outputs": []
    },
    {
      "cell_type": "code",
      "metadata": {
        "colab": {
          "base_uri": "https://localhost:8080/"
        },
        "id": "ItXZfNjo-ujZ",
        "outputId": "5012c1aa-3d46-43e3-902d-a930ac17b114"
      },
      "source": [
        "conta_teste.extrato()"
      ],
      "execution_count": null,
      "outputs": [
        {
          "output_type": "stream",
          "text": [
            "Saldo de 100.0 do Titular Amanda\n"
          ],
          "name": "stdout"
        }
      ]
    },
    {
      "cell_type": "code",
      "metadata": {
        "colab": {
          "base_uri": "https://localhost:8080/"
        },
        "id": "Gebc8ahU-yDg",
        "outputId": "160868ee-9d6e-40c9-a1c2-84643dc79dbf"
      },
      "source": [
        "conta_teste2.extrato()"
      ],
      "execution_count": null,
      "outputs": [
        {
          "output_type": "stream",
          "text": [
            "Saldo de 50.0 do Titular Paolo\n"
          ],
          "name": "stdout"
        }
      ]
    },
    {
      "cell_type": "code",
      "metadata": {
        "id": "Yy0ClcGG-zDA"
      },
      "source": [
        "#Transfere dinheiro pela classe\n",
        "\n",
        "conta_teste2.transfere(10.0,conta_teste)\n",
        "\n",
        "conta_teste.extrato()"
      ],
      "execution_count": null,
      "outputs": []
    },
    {
      "cell_type": "code",
      "metadata": {
        "colab": {
          "base_uri": "https://localhost:8080/"
        },
        "id": "8sKCX2IS-3rw",
        "outputId": "4fb02c16-782c-435d-8b7f-df9f2db0cf2e"
      },
      "source": [
        "conta_teste2.extrato()"
      ],
      "execution_count": null,
      "outputs": [
        {
          "output_type": "stream",
          "text": [
            "Saldo de 50.0 do Titular Paolo\n"
          ],
          "name": "stdout"
        }
      ]
    },
    {
      "cell_type": "code",
      "metadata": {
        "id": "lBL9LSqj-8gv"
      },
      "source": [
        "cliente_teste = Cliente(\"maria\")"
      ],
      "execution_count": null,
      "outputs": []
    },
    {
      "cell_type": "code",
      "metadata": {
        "colab": {
          "base_uri": "https://localhost:8080/",
          "height": 35
        },
        "id": "sWqIBAn4_7Xf",
        "outputId": "d1bc6964-0b1d-4482-a5c5-d130bd85ab31"
      },
      "source": [
        "#chamou a propriedade:\n",
        "\n",
        "cliente_teste.nome"
      ],
      "execution_count": null,
      "outputs": [
        {
          "output_type": "execute_result",
          "data": {
            "application/vnd.google.colaboratory.intrinsic+json": {
              "type": "string"
            },
            "text/plain": [
              "'Maria'"
            ]
          },
          "metadata": {
            "tags": []
          },
          "execution_count": 61
        }
      ]
    },
    {
      "cell_type": "code",
      "metadata": {
        "colab": {
          "base_uri": "https://localhost:8080/",
          "height": 35
        },
        "id": "y4Q6WGBI_8fY",
        "outputId": "9cdb8cff-0b7f-4ec0-bd76-09ddadb83b73"
      },
      "source": [
        "#aplicando o setter\n",
        "\n",
        "cliente_teste.nome = \"josué\"\n",
        "cliente_teste.nome"
      ],
      "execution_count": null,
      "outputs": [
        {
          "output_type": "execute_result",
          "data": {
            "application/vnd.google.colaboratory.intrinsic+json": {
              "type": "string"
            },
            "text/plain": [
              "'Josué'"
            ]
          },
          "metadata": {
            "tags": []
          },
          "execution_count": 62
        }
      ]
    },
    {
      "cell_type": "code",
      "metadata": {
        "id": "495cMLQq_9zA"
      },
      "source": [
        "conta_teste3 = Conta(478,\"Iron\",40.0,100.00)"
      ],
      "execution_count": null,
      "outputs": []
    },
    {
      "cell_type": "code",
      "metadata": {
        "colab": {
          "base_uri": "https://localhost:8080/"
        },
        "id": "_R42OEQm_-1Q",
        "outputId": "88d3b995-4f12-4aae-8948-3b475effc367"
      },
      "source": [
        "conta_teste3.limite = 1000.00\n",
        "conta_teste3.limite"
      ],
      "execution_count": null,
      "outputs": [
        {
          "output_type": "execute_result",
          "data": {
            "text/plain": [
              "1000.0"
            ]
          },
          "metadata": {
            "tags": []
          },
          "execution_count": 64
        }
      ]
    },
    {
      "cell_type": "code",
      "metadata": {
        "colab": {
          "base_uri": "https://localhost:8080/",
          "height": 35
        },
        "id": "Uj2dH1uM__xy",
        "outputId": "66740301-7c33-4783-c0c3-f14b139000aa"
      },
      "source": [
        "codigos = Conta.codigos_bancos()\n",
        "codigos['BB']"
      ],
      "execution_count": null,
      "outputs": [
        {
          "output_type": "execute_result",
          "data": {
            "application/vnd.google.colaboratory.intrinsic+json": {
              "type": "string"
            },
            "text/plain": [
              "'001'"
            ]
          },
          "metadata": {
            "tags": []
          },
          "execution_count": 65
        }
      ]
    }
  ]
}