{
  "nbformat": 4,
  "nbformat_minor": 0,
  "metadata": {
    "colab": {
      "name": "Python Inicial.ipynb",
      "provenance": [],
      "authorship_tag": "ABX9TyMbnxCyeiHSQt3UTZD6hzYt",
      "include_colab_link": true
    },
    "kernelspec": {
      "name": "python3",
      "display_name": "Python 3"
    },
    "language_info": {
      "name": "python"
    }
  },
  "cells": [
    {
      "cell_type": "markdown",
      "metadata": {
        "id": "view-in-github",
        "colab_type": "text"
      },
      "source": [
        "<a href=\"https://colab.research.google.com/github/nalugcs/Estudos-Google-Colab/blob/Estudos/Python_Inicial.ipynb\" target=\"_parent\"><img src=\"https://colab.research.google.com/assets/colab-badge.svg\" alt=\"Open In Colab\"/></a>"
      ]
    },
    {
      "cell_type": "markdown",
      "metadata": {
        "id": "KJyKxAG35asJ"
      },
      "source": [
        "#**Curso de Introdução ao Python - Alura**\n",
        "\n",
        "####Agosto de 2021\n",
        "######Ana Luiza Gonçalves César"
      ]
    },
    {
      "cell_type": "code",
      "metadata": {
        "colab": {
          "base_uri": "https://localhost:8080/"
        },
        "id": "yJMvBqGb5Tu6",
        "outputId": "be8170f6-5b57-4a82-b6c5-321a6c68641c"
      },
      "source": [
        "#Salvar o notebook no drive:\n",
        "\n",
        "from google.colab import drive\n",
        "drive.mount('/content/drive')"
      ],
      "execution_count": 1,
      "outputs": [
        {
          "output_type": "stream",
          "text": [
            "Mounted at /content/drive\n"
          ],
          "name": "stdout"
        }
      ]
    },
    {
      "cell_type": "code",
      "metadata": {
        "colab": {
          "base_uri": "https://localhost:8080/"
        },
        "id": "E0f1UOKI5tlr",
        "outputId": "ddebee86-fa43-4652-f927-36aaac8ac9e6"
      },
      "source": [
        "#Imprimir mensagem na tela:\n",
        "\n",
        "print('Estudo Python')"
      ],
      "execution_count": 2,
      "outputs": [
        {
          "output_type": "stream",
          "text": [
            "Estudo Python\n"
          ],
          "name": "stdout"
        }
      ]
    },
    {
      "cell_type": "code",
      "metadata": {
        "colab": {
          "base_uri": "https://localhost:8080/",
          "height": 35
        },
        "id": "i75cO_Bd54AZ",
        "outputId": "d3863e14-33e9-49b9-ea69-a3a6b89efe27"
      },
      "source": [
        "texto = 'Texto'\n",
        "texto"
      ],
      "execution_count": 3,
      "outputs": [
        {
          "output_type": "execute_result",
          "data": {
            "application/vnd.google.colaboratory.intrinsic+json": {
              "type": "string"
            },
            "text/plain": [
              "'Texto'"
            ]
          },
          "metadata": {
            "tags": []
          },
          "execution_count": 3
        }
      ]
    },
    {
      "cell_type": "code",
      "metadata": {
        "colab": {
          "base_uri": "https://localhost:8080/"
        },
        "id": "NRRQbHGj55da",
        "outputId": "4d364266-a709-4e39-cb36-6f966a6daec3"
      },
      "source": [
        "#tipo da variável:\n",
        "\n",
        "type(texto)"
      ],
      "execution_count": 4,
      "outputs": [
        {
          "output_type": "execute_result",
          "data": {
            "text/plain": [
              "str"
            ]
          },
          "metadata": {
            "tags": []
          },
          "execution_count": 4
        }
      ]
    },
    {
      "cell_type": "code",
      "metadata": {
        "colab": {
          "base_uri": "https://localhost:8080/"
        },
        "id": "sSmZ9BLq59uZ",
        "outputId": "805ed765-4955-4838-be06-cc0b1e312f79"
      },
      "source": [
        "numero = 4\n",
        "numero"
      ],
      "execution_count": 5,
      "outputs": [
        {
          "output_type": "execute_result",
          "data": {
            "text/plain": [
              "4"
            ]
          },
          "metadata": {
            "tags": []
          },
          "execution_count": 5
        }
      ]
    },
    {
      "cell_type": "code",
      "metadata": {
        "colab": {
          "base_uri": "https://localhost:8080/"
        },
        "id": "-__rxEGY5-_Y",
        "outputId": "2d0131d3-2d27-43dd-f72a-d0e7eb390db4"
      },
      "source": [
        "type(numero)"
      ],
      "execution_count": 6,
      "outputs": [
        {
          "output_type": "execute_result",
          "data": {
            "text/plain": [
              "int"
            ]
          },
          "metadata": {
            "tags": []
          },
          "execution_count": 6
        }
      ]
    },
    {
      "cell_type": "code",
      "metadata": {
        "colab": {
          "base_uri": "https://localhost:8080/"
        },
        "id": "GF8yGZRP5_84",
        "outputId": "6403676b-832f-4818-b327-b2565936c032"
      },
      "source": [
        "print(texto, numero)"
      ],
      "execution_count": 7,
      "outputs": [
        {
          "output_type": "stream",
          "text": [
            "Texto 4\n"
          ],
          "name": "stdout"
        }
      ]
    },
    {
      "cell_type": "code",
      "metadata": {
        "colab": {
          "base_uri": "https://localhost:8080/"
        },
        "id": "GAD7ybF56BTZ",
        "outputId": "4f0a3493-1e22-4f08-e1c3-07ba4a1454ad"
      },
      "source": [
        "dia = 11\n",
        "mes = 6\n",
        "ano = 1998\n",
        "print(dia,mes,ano, sep='/')"
      ],
      "execution_count": 8,
      "outputs": [
        {
          "output_type": "stream",
          "text": [
            "11/6/1998\n"
          ],
          "name": "stdout"
        }
      ]
    },
    {
      "cell_type": "code",
      "metadata": {
        "colab": {
          "base_uri": "https://localhost:8080/"
        },
        "id": "NS8Z5tcw6CjA",
        "outputId": "4d1ff558-4020-419b-b919-8c5e40dcc397"
      },
      "source": [
        "#saber os arquivos:\n",
        "\n",
        "%ls"
      ],
      "execution_count": 9,
      "outputs": [
        {
          "output_type": "stream",
          "text": [
            "\u001b[0m\u001b[01;34mdrive\u001b[0m/  \u001b[01;34msample_data\u001b[0m/\n"
          ],
          "name": "stdout"
        }
      ]
    },
    {
      "cell_type": "code",
      "metadata": {
        "colab": {
          "base_uri": "https://localhost:8080/"
        },
        "id": "UbEq7oHU6G2Z",
        "outputId": "5f878fab-13aa-41b9-e7d8-b40e40f27ec6"
      },
      "source": [
        "#Criando Primeira parte do Jogo da Adivinhação:\n",
        "print(\"Jogo de adivinhação\", end= '\\n\\n')\n",
        "\n",
        "nro_secreto = 11\n",
        "total_tentativas = 3\n",
        "rodada = 1\n",
        "\n",
        "\n",
        "while(total_tentativas >= rodada):\n",
        "  print(\"Tentativa {} de {}\".format(rodada, total_tentativas), end=\"\\n\")\n",
        "  chute = input(\"Digite seu número positivo: \")\n",
        "  chute_numero = int(chute)\n",
        "\n",
        "  if (chute_numero < 0):\n",
        "    print(\"Número inserido errado!\", end=\"\\n \\n\")\n",
        "    continue\n",
        "  else:\n",
        "      maior = chute_numero > nro_secreto\n",
        "      menor = chute_numero < nro_secreto\n",
        "\n",
        "      if (nro_secreto == chute_numero):\n",
        "        print(\"Você acertou!\")\n",
        "        break\n",
        "      else:\n",
        "        if (maior):\n",
        "          print(\"Você errou! O número é menor do que você chutou!\", end=\"\\n \\n\")\n",
        "        elif (menor):\n",
        "            print(\"Você errou! O número é maior do que você chutou!\", end = \"\\n \\n\")\n",
        "\n",
        "      rodada = rodada + 1"
      ],
      "execution_count": 10,
      "outputs": [
        {
          "output_type": "stream",
          "text": [
            "Jogo de adivinhação\n",
            "\n",
            "Tentativa 1 de 3\n",
            "Digite seu número positivo: 20\n",
            "Você errou! O número é menor do que você chutou!\n",
            " \n",
            "Tentativa 2 de 3\n",
            "Digite seu número positivo: 28\n",
            "Você errou! O número é menor do que você chutou!\n",
            " \n",
            "Tentativa 3 de 3\n",
            "Digite seu número positivo: 11\n",
            "Você acertou!\n"
          ],
          "name": "stdout"
        }
      ]
    },
    {
      "cell_type": "code",
      "metadata": {
        "colab": {
          "base_uri": "https://localhost:8080/"
        },
        "id": "PTyNu4dL6Pio",
        "outputId": "5cecd8e7-9d2e-4806-f7d8-fff43e60be63"
      },
      "source": [
        "print(\"R$ {:.2f}\".format(11.06))"
      ],
      "execution_count": 11,
      "outputs": [
        {
          "output_type": "stream",
          "text": [
            "R$ 11.06\n"
          ],
          "name": "stdout"
        }
      ]
    },
    {
      "cell_type": "code",
      "metadata": {
        "colab": {
          "base_uri": "https://localhost:8080/"
        },
        "id": "MeZeA_yS6TRh",
        "outputId": "1ebef272-ee91-4195-a5fc-840f94dfec0c"
      },
      "source": [
        "print(\"R$ {:06.2f}\".format(11.06))"
      ],
      "execution_count": 12,
      "outputs": [
        {
          "output_type": "stream",
          "text": [
            "R$ 011.06\n"
          ],
          "name": "stdout"
        }
      ]
    },
    {
      "cell_type": "code",
      "metadata": {
        "colab": {
          "base_uri": "https://localhost:8080/"
        },
        "id": "vNMFJ5Fr6UyR",
        "outputId": "df39e7c4-cb90-4126-c857-cd41a3dac4cc"
      },
      "source": [
        "print(\"teste de números: {:06d}\".format(11))"
      ],
      "execution_count": 13,
      "outputs": [
        {
          "output_type": "stream",
          "text": [
            "teste de números: 000011\n"
          ],
          "name": "stdout"
        }
      ]
    },
    {
      "cell_type": "code",
      "metadata": {
        "colab": {
          "base_uri": "https://localhost:8080/"
        },
        "id": "53fjIS106WEy",
        "outputId": "61ed1ec6-dbe5-4b85-efb1-41a7c5d022ae"
      },
      "source": [
        "print(\"Teste de data: {:02d}/{:02d}/{:4d}\".format(11,6,1998))"
      ],
      "execution_count": 14,
      "outputs": [
        {
          "output_type": "stream",
          "text": [
            "Teste de data: 11/06/1998\n"
          ],
          "name": "stdout"
        }
      ]
    },
    {
      "cell_type": "code",
      "metadata": {
        "id": "MFyIrtdO6XS5"
      },
      "source": [
        "#Cria inicialização do jogo parte 1:\n",
        "\n",
        "print(\"Escolha seu jogo: \",end=\"\\n\\n\\n\")\n",
        "print(\"1 - Forca ou 2 - Adivinhação\", end=\"\\n\\n\")\n",
        "jogo = int(input(\"Qual jogo? \"))\n",
        "if (jogo == 1):\n",
        "  print(\"Jogando Forca\")\n",
        "  jogarForca()\n",
        "elif (jogo == 2):\n",
        "    jogarAdivinha()"
      ],
      "execution_count": null,
      "outputs": []
    },
    {
      "cell_type": "code",
      "metadata": {
        "id": "oQkerYwa6m47"
      },
      "source": [
        "#Jogo definitivo Adivinhação:\n",
        "\n",
        "import random\n",
        "def jogarAdivinha():\n",
        "    print(\"Jogo de adivinhação\", end= '\\n\\n')\n",
        "    nro_secreto = random.randrange(1,101)\n",
        "    total_tentativas = 2\n",
        "    rodada = 1\n",
        "    while(total_tentativas >= rodada):\n",
        "      print(\"Tentativa {} de {}\".format(rodada, total_tentativas), end=\"\\n\")\n",
        "      chute = input(\"Digite seu número: \")\n",
        "      chute_numero = int(chute)\n",
        "      if (chute_numero < 0):\n",
        "        print(\"Número inserido errado!\", end=\"\\n \\n\")\n",
        "        continue\n",
        "      else:\n",
        "          maior = chute_numero > nro_secreto\n",
        "          menor = chute_numero < nro_secreto\n",
        "\n",
        "          if (nro_secreto == chute_numero):\n",
        "            print(\"Você acertou!\")\n",
        "            break\n",
        "          else:\n",
        "            if (maior):\n",
        "              print(\"Você errou! O número é menor do que você chutou!\", end=\"\\n \\n\")\n",
        "            elif (menor):\n",
        "                print(\"Você errou! O número é maior do que você chutou!\", end = \"\\n \\n\")\n",
        "          \n",
        "          rodada = rodada + 1\n",
        "          \n",
        "    print(\"Fim do Jogo! O Número era: {}\".format(nro_secreto))\n",
        "\n",
        "    if(__name__ == \"__main__\"):\n",
        "      jogarAdivinha()"
      ],
      "execution_count": 59,
      "outputs": []
    },
    {
      "cell_type": "code",
      "metadata": {
        "id": "tsbdAVx77O_B"
      },
      "source": [
        "#Criação parte 1 Jogo da Forca:\n",
        "\n",
        "def jogar1():\n",
        "  \n",
        "  palavra_secreta = \"vivendo\"\n",
        "  enforcou = False\n",
        "  acertou = False\n",
        "  \n",
        "  #enquanto(True)\n",
        "  while(not enforcou and not acertou):\n",
        "    index = 0\n",
        "    chute = input(\"Qual letra? \")\n",
        "    #permanecer sempre minuscula\n",
        "    chute = chute.lower()\n",
        "    #retirar espaços\n",
        "    chute = chute.strip()\n",
        "    for letra in palavra_secreta:\n",
        "      if (chute == letra):\n",
        "        print(\"Encontrei a letra: {} na posição {}\".format(chute, index))\n",
        "      index = index + 1\n",
        "    print(\"jogando...\", end=\"\\n\\n\")\n",
        "jogar1()"
      ],
      "execution_count": null,
      "outputs": []
    },
    {
      "cell_type": "code",
      "metadata": {
        "colab": {
          "base_uri": "https://localhost:8080/"
        },
        "id": "xBt5UhCn7mCj",
        "outputId": "2f126c0b-03f8-426b-d3e5-0fb36934bbd1"
      },
      "source": [
        "palavra = \"teste\"\n",
        "\n",
        "palavra.find('l')"
      ],
      "execution_count": 19,
      "outputs": [
        {
          "output_type": "execute_result",
          "data": {
            "text/plain": [
              "-1"
            ]
          },
          "metadata": {
            "tags": []
          },
          "execution_count": 19
        }
      ]
    },
    {
      "cell_type": "code",
      "metadata": {
        "colab": {
          "base_uri": "https://localhost:8080/",
          "height": 35
        },
        "id": "Kzgb0gjl7r7o",
        "outputId": "cf3216bb-6c39-4635-a1da-980443a85da6"
      },
      "source": [
        "palavra.capitalize()"
      ],
      "execution_count": 20,
      "outputs": [
        {
          "output_type": "execute_result",
          "data": {
            "application/vnd.google.colaboratory.intrinsic+json": {
              "type": "string"
            },
            "text/plain": [
              "'Teste'"
            ]
          },
          "metadata": {
            "tags": []
          },
          "execution_count": 20
        }
      ]
    },
    {
      "cell_type": "code",
      "metadata": {
        "colab": {
          "base_uri": "https://localhost:8080/"
        },
        "id": "pkAaN0qc7tHB",
        "outputId": "943c41f1-3929-453d-bdce-c3e414287fc6"
      },
      "source": [
        "palavra.find('t')"
      ],
      "execution_count": 21,
      "outputs": [
        {
          "output_type": "execute_result",
          "data": {
            "text/plain": [
              "0"
            ]
          },
          "metadata": {
            "tags": []
          },
          "execution_count": 21
        }
      ]
    },
    {
      "cell_type": "code",
      "metadata": {
        "colab": {
          "base_uri": "https://localhost:8080/"
        },
        "id": "iSM3xmlQ7uHJ",
        "outputId": "79058a1b-192c-4b31-e8bb-af09d6b5bd51"
      },
      "source": [
        "palavra.endswith(\"te\")"
      ],
      "execution_count": 22,
      "outputs": [
        {
          "output_type": "execute_result",
          "data": {
            "text/plain": [
              "True"
            ]
          },
          "metadata": {
            "tags": []
          },
          "execution_count": 22
        }
      ]
    },
    {
      "cell_type": "code",
      "metadata": {
        "colab": {
          "base_uri": "https://localhost:8080/",
          "height": 35
        },
        "id": "jkaQG0r57vGp",
        "outputId": "42441fdf-cc8f-4510-924c-707e4b81843d"
      },
      "source": [
        "testepalavra = palavra.upper()\n",
        "testepalavra"
      ],
      "execution_count": 23,
      "outputs": [
        {
          "output_type": "execute_result",
          "data": {
            "application/vnd.google.colaboratory.intrinsic+json": {
              "type": "string"
            },
            "text/plain": [
              "'TESTE'"
            ]
          },
          "metadata": {
            "tags": []
          },
          "execution_count": 23
        }
      ]
    },
    {
      "cell_type": "code",
      "metadata": {
        "colab": {
          "base_uri": "https://localhost:8080/",
          "height": 35
        },
        "id": "xuNvVty17wAx",
        "outputId": "debecb35-af80-4d1c-8e2d-b9ba83a79684"
      },
      "source": [
        "testepalavra.lower()"
      ],
      "execution_count": 24,
      "outputs": [
        {
          "output_type": "execute_result",
          "data": {
            "application/vnd.google.colaboratory.intrinsic+json": {
              "type": "string"
            },
            "text/plain": [
              "'teste'"
            ]
          },
          "metadata": {
            "tags": []
          },
          "execution_count": 24
        }
      ]
    },
    {
      "cell_type": "code",
      "metadata": {
        "id": "QXap5yX07xfn"
      },
      "source": [
        "#Criação parte 2 Jogo da Forca:\n",
        "\n",
        "def jogar2():\n",
        "  \n",
        "  palavra_secreta = \"banana\"\n",
        "  enforcou = False\n",
        "  acertou = False\n",
        "  \n",
        "  #lista\n",
        "  letras_acertadas = [\"_\",\"_\",\"_\",\"_\",\"_\",\"_\"]\n",
        "  \n",
        "  print(\"Palavra Secreta: {}\".format(letras_acertadas), end=\"\\n\\n\")\n",
        "  while(not enforcou and not acertou):\n",
        "    index = 0\n",
        "    chute = input(\"Qual letra? \")\n",
        "    chute = chute.lower()\n",
        "    chute = chute.strip()\n",
        "\n",
        "    for letra in palavra_secreta:\n",
        "      if (chute == letra):\n",
        "        letras_acertadas[index] = letra\n",
        "        \n",
        "      index = index + 1\n",
        "    print(letras_acertadas)\n",
        "    print(\"jogando...\", end=\"\\n\\n\")\n",
        "jogar2()"
      ],
      "execution_count": null,
      "outputs": []
    },
    {
      "cell_type": "code",
      "metadata": {
        "colab": {
          "base_uri": "https://localhost:8080/"
        },
        "id": "0xxApS-v72cq",
        "outputId": "e22fb474-a8af-4c1c-9fe9-826611bce128"
      },
      "source": [
        "dias = ['seg','ter','qua','qui','sex','sab','dom']\n",
        "dias"
      ],
      "execution_count": 25,
      "outputs": [
        {
          "output_type": "execute_result",
          "data": {
            "text/plain": [
              "['seg', 'ter', 'qua', 'qui', 'sex', 'sab', 'dom']"
            ]
          },
          "metadata": {
            "tags": []
          },
          "execution_count": 25
        }
      ]
    },
    {
      "cell_type": "code",
      "metadata": {
        "id": "95E244yj73jQ"
      },
      "source": [
        "dias.append('tex')"
      ],
      "execution_count": 26,
      "outputs": []
    },
    {
      "cell_type": "code",
      "metadata": {
        "colab": {
          "base_uri": "https://localhost:8080/"
        },
        "id": "UfqXqMZt74eI",
        "outputId": "45e29617-9810-4f55-ad10-1c0b58d7bc81"
      },
      "source": [
        "dias"
      ],
      "execution_count": 27,
      "outputs": [
        {
          "output_type": "execute_result",
          "data": {
            "text/plain": [
              "['seg', 'ter', 'qua', 'qui', 'sex', 'sab', 'dom', 'tex']"
            ]
          },
          "metadata": {
            "tags": []
          },
          "execution_count": 27
        }
      ]
    },
    {
      "cell_type": "code",
      "metadata": {
        "colab": {
          "base_uri": "https://localhost:8080/",
          "height": 35
        },
        "id": "JqKU0zUk75RI",
        "outputId": "fdb982e8-d459-45e8-e191-f3cacecb5382"
      },
      "source": [
        "dias.pop()"
      ],
      "execution_count": 28,
      "outputs": [
        {
          "output_type": "execute_result",
          "data": {
            "application/vnd.google.colaboratory.intrinsic+json": {
              "type": "string"
            },
            "text/plain": [
              "'tex'"
            ]
          },
          "metadata": {
            "tags": []
          },
          "execution_count": 28
        }
      ]
    },
    {
      "cell_type": "code",
      "metadata": {
        "colab": {
          "base_uri": "https://localhost:8080/"
        },
        "id": "-iSqnlQH76LQ",
        "outputId": "9dc7199a-0542-4b5c-8dbe-78b2215cdc36"
      },
      "source": [
        "dias"
      ],
      "execution_count": 29,
      "outputs": [
        {
          "output_type": "execute_result",
          "data": {
            "text/plain": [
              "['seg', 'ter', 'qua', 'qui', 'sex', 'sab', 'dom']"
            ]
          },
          "metadata": {
            "tags": []
          },
          "execution_count": 29
        }
      ]
    },
    {
      "cell_type": "code",
      "metadata": {
        "colab": {
          "base_uri": "https://localhost:8080/"
        },
        "id": "6-X2U6At76_Y",
        "outputId": "f23df178-20c7-4a18-8bf0-88547831789e"
      },
      "source": [
        "#tuple é usado em parenteses, enquanto lista é por colchetes ([])\n",
        "\n",
        "dias_semana = ('seg', 'ter', 'qua', 'qui', 'sex', 'sab', 'dom')\n",
        "type(dias_semana)"
      ],
      "execution_count": 30,
      "outputs": [
        {
          "output_type": "execute_result",
          "data": {
            "text/plain": [
              "tuple"
            ]
          },
          "metadata": {
            "tags": []
          },
          "execution_count": 30
        }
      ]
    },
    {
      "cell_type": "code",
      "metadata": {
        "colab": {
          "base_uri": "https://localhost:8080/"
        },
        "id": "qerYPL3J79HJ",
        "outputId": "f292522d-4aff-4e67-dde0-2bbc3827e05e"
      },
      "source": [
        "dias_semana"
      ],
      "execution_count": 31,
      "outputs": [
        {
          "output_type": "execute_result",
          "data": {
            "text/plain": [
              "('seg', 'ter', 'qua', 'qui', 'sex', 'sab', 'dom')"
            ]
          },
          "metadata": {
            "tags": []
          },
          "execution_count": 31
        }
      ]
    },
    {
      "cell_type": "code",
      "metadata": {
        "colab": {
          "base_uri": "https://localhost:8080/"
        },
        "id": "a2k2Exf37-Cw",
        "outputId": "50e1d5a6-53e9-43cd-b2ad-77cc9eb70548"
      },
      "source": [
        "p1=(1,1)\n",
        "p2=(2,2)\n",
        "p=(p1,p2)\n",
        "p"
      ],
      "execution_count": 32,
      "outputs": [
        {
          "output_type": "execute_result",
          "data": {
            "text/plain": [
              "((1, 1), (2, 2))"
            ]
          },
          "metadata": {
            "tags": []
          },
          "execution_count": 32
        }
      ]
    },
    {
      "cell_type": "code",
      "metadata": {
        "colab": {
          "base_uri": "https://localhost:8080/"
        },
        "id": "ayFWojez7_Hx",
        "outputId": "af0a9b63-7503-4f38-9ad4-906962aba5a5"
      },
      "source": [
        "pn1 = (\"Ana\",23)\n",
        "pn2 = (\"Ironides\",26)\n",
        "png = (pn1,pn2)\n",
        "png"
      ],
      "execution_count": 33,
      "outputs": [
        {
          "output_type": "execute_result",
          "data": {
            "text/plain": [
              "(('Ana', 23), ('Ironides', 26))"
            ]
          },
          "metadata": {
            "tags": []
          },
          "execution_count": 33
        }
      ]
    },
    {
      "cell_type": "code",
      "metadata": {
        "colab": {
          "base_uri": "https://localhost:8080/"
        },
        "id": "QiftdhCm8AV4",
        "outputId": "2e782186-0663-4db0-ea0c-b620758ebbf4"
      },
      "source": [
        "png_list = [pn1,pn2]\n",
        "png_list"
      ],
      "execution_count": 34,
      "outputs": [
        {
          "output_type": "execute_result",
          "data": {
            "text/plain": [
              "[('Ana', 23), ('Ironides', 26)]"
            ]
          },
          "metadata": {
            "tags": []
          },
          "execution_count": 34
        }
      ]
    },
    {
      "cell_type": "code",
      "metadata": {
        "colab": {
          "base_uri": "https://localhost:8080/"
        },
        "id": "_Kwjd6gR8BPA",
        "outputId": "430bf7dc-7e6b-46bd-b173-f3181420251d"
      },
      "source": [
        "png_list[0]"
      ],
      "execution_count": 35,
      "outputs": [
        {
          "output_type": "execute_result",
          "data": {
            "text/plain": [
              "('Ana', 23)"
            ]
          },
          "metadata": {
            "tags": []
          },
          "execution_count": 35
        }
      ]
    },
    {
      "cell_type": "code",
      "metadata": {
        "colab": {
          "base_uri": "https://localhost:8080/"
        },
        "id": "SMiBvQCu8CUw",
        "outputId": "baf573a1-19be-4c23-d928-bd476c4131a6"
      },
      "source": [
        "png_list[0][1]"
      ],
      "execution_count": 36,
      "outputs": [
        {
          "output_type": "execute_result",
          "data": {
            "text/plain": [
              "23"
            ]
          },
          "metadata": {
            "tags": []
          },
          "execution_count": 36
        }
      ]
    },
    {
      "cell_type": "code",
      "metadata": {
        "colab": {
          "base_uri": "https://localhost:8080/",
          "height": 35
        },
        "id": "nVdDFIlr8DbZ",
        "outputId": "14147b24-ba45-477b-a8b4-ad79f49e361e"
      },
      "source": [
        "png_list[0][0]"
      ],
      "execution_count": 37,
      "outputs": [
        {
          "output_type": "execute_result",
          "data": {
            "application/vnd.google.colaboratory.intrinsic+json": {
              "type": "string"
            },
            "text/plain": [
              "'Ana'"
            ]
          },
          "metadata": {
            "tags": []
          },
          "execution_count": 37
        }
      ]
    },
    {
      "cell_type": "code",
      "metadata": {
        "colab": {
          "base_uri": "https://localhost:8080/"
        },
        "id": "oFHV9Xg58EQp",
        "outputId": "836cf9e7-72b2-4905-d5c0-d7a7c7803aed"
      },
      "source": [
        "transformando_lista_em_tuple = tuple(png_list)\n",
        "transformando_lista_em_tuple"
      ],
      "execution_count": 38,
      "outputs": [
        {
          "output_type": "execute_result",
          "data": {
            "text/plain": [
              "(('Ana', 23), ('Ironides', 26))"
            ]
          },
          "metadata": {
            "tags": []
          },
          "execution_count": 38
        }
      ]
    },
    {
      "cell_type": "code",
      "metadata": {
        "colab": {
          "base_uri": "https://localhost:8080/"
        },
        "id": "Vc4dgNg58FGg",
        "outputId": "52e253ef-b0df-4860-af41-b5ac61e43030"
      },
      "source": [
        "transformando_tuple_em_lista = list(png)\n",
        "transformando_tuple_em_lista"
      ],
      "execution_count": 39,
      "outputs": [
        {
          "output_type": "execute_result",
          "data": {
            "text/plain": [
              "[('Ana', 23), ('Ironides', 26)]"
            ]
          },
          "metadata": {
            "tags": []
          },
          "execution_count": 39
        }
      ]
    },
    {
      "cell_type": "code",
      "metadata": {
        "id": "YoNq3kRa8GEh"
      },
      "source": [
        "#Criação parte 3 Jogo da Forca:\n",
        "\n",
        "def jogar3():\n",
        "  \n",
        "  palavra_secreta = \"banana\"\n",
        "  enforcou = False\n",
        "  acertou = False\n",
        "  \n",
        "  erros = 0\n",
        "\n",
        "  #lista\n",
        "  letras_acertadas = [\"_\",\"_\",\"_\",\"_\",\"_\",\"_\"]\n",
        "  \n",
        "  print(\"Palavra Secreta: {}\".format(letras_acertadas), end=\"\\n\\n\")\n",
        "  while(not enforcou and not acertou):\n",
        "    chute = input(\"Qual letra? \")\n",
        "    chute = chute.lower()\n",
        "    chute = chute.strip()\n",
        "\n",
        "    if (chute in palavra_secreta):\n",
        "      index = 0\n",
        "      for letra in palavra_secreta:\n",
        "        if (chute == letra):\n",
        "            letras_acertadas[index] = letra\n",
        "        index += 1\n",
        "    else:\n",
        "        erros += 1\n",
        "\n",
        "    enforcou = erros == 6\n",
        "    acertou = \"_\" not in letras_acertadas\n",
        "    print(letras_acertadas)\n",
        "    print(\"jogando...\", end=\"\\n\\n\")\n",
        "  print(\"Jogo Finalizado!\")\n",
        "jogar3()"
      ],
      "execution_count": null,
      "outputs": []
    },
    {
      "cell_type": "code",
      "metadata": {
        "id": "TpwZNHDo8MZa"
      },
      "source": [
        "#Criação parte 4 Jogo da Forca:\n",
        "\n",
        "def jogar4():\n",
        "  \n",
        "  palavra_secreta = \"banana\"\n",
        "  enforcou = False\n",
        "  acertou = False\n",
        "  \n",
        "  erros = 0\n",
        "\n",
        "  #lista\n",
        "  letras_acertadas = []\n",
        "  for letra in palavra_secreta:\n",
        "    letras_acertadas.append(\"_\")\n",
        "  \n",
        "  print(\"Palavra Secreta: {}\".format(letras_acertadas), end=\"\\n\\n\")\n",
        "  while (not enforcou and not acertou):\n",
        "    chute = input(\"Qual letra? \")\n",
        "    chute = chute.lower()\n",
        "    chute = chute.strip()\n",
        "\n",
        "    if (chute in palavra_secreta):\n",
        "      index = 0\n",
        "      for letra in palavra_secreta:\n",
        "        if (chute == letra):\n",
        "            letras_acertadas[index] = letra\n",
        "        index += 1\n",
        "    else:\n",
        "        erros += 1\n",
        "\n",
        "    enforcou = erros == 6\n",
        "    acertou = \"_\" not in letras_acertadas\n",
        "    print(letras_acertadas)\n",
        "    print(\"jogando...\", end=\"\\n\\n\")\n",
        "\n",
        "  if (acertou):\n",
        "    print(\"Você ganhou!\")\n",
        "  else:\n",
        "    print(\"Você perdeu!\")\n",
        "jogar4()"
      ],
      "execution_count": null,
      "outputs": []
    },
    {
      "cell_type": "code",
      "metadata": {
        "id": "SYBEe5wi8R0i"
      },
      "source": [
        "#Criação parte 5 Jogo da Forca:\n",
        "\n",
        "def jogar5():\n",
        "  \n",
        "  palavra_secreta = \"banana\"\n",
        "  enforcou = False\n",
        "  acertou = False\n",
        "  \n",
        "  erros = 0\n",
        "\n",
        "  #determinando diretamente na lista\n",
        "  letras_acertadas = [\"_\" for letra in palavra_secreta]\n",
        "  \n",
        "  print(\"Palavra Secreta: {}\".format(letras_acertadas), end=\"\\n\\n\")\n",
        "  while (not enforcou and not acertou):\n",
        "    chute = input(\"Qual letra? \")\n",
        "    chute = chute.lower()\n",
        "    chute = chute.strip()\n",
        "\n",
        "    if (chute in palavra_secreta):\n",
        "      index = 0\n",
        "      for letra in palavra_secreta:\n",
        "        if (chute == letra):\n",
        "            letras_acertadas[index] = letra\n",
        "        index += 1\n",
        "    else:\n",
        "        erros += 1\n",
        "\n",
        "    enforcou = erros == 6\n",
        "    acertou = \"_\" not in letras_acertadas\n",
        "    print(letras_acertadas)\n",
        "    print(\"jogando...\", end=\"\\n\\n\")\n",
        "\n",
        "  if (acertou):\n",
        "    print(\"Você ganhou!\")\n",
        "  else:\n",
        "    print(\"Você perdeu!\")\n",
        "jogar5()"
      ],
      "execution_count": null,
      "outputs": []
    },
    {
      "cell_type": "code",
      "metadata": {
        "colab": {
          "base_uri": "https://localhost:8080/"
        },
        "id": "1OB5bxOo8Ulp",
        "outputId": "7d0ae066-a81b-41d2-9d30-ea011e3bb709"
      },
      "source": [
        "#Trabalhando com arquivos\n",
        "\n",
        "#escrever e sobrescrever um arquivo txt\n",
        "arquivo = open(\"palavras.txt\",\"w\")\n",
        "arquivo.write(\"banana\\n\")"
      ],
      "execution_count": 41,
      "outputs": [
        {
          "output_type": "execute_result",
          "data": {
            "text/plain": [
              "7"
            ]
          },
          "metadata": {
            "tags": []
          },
          "execution_count": 41
        }
      ]
    },
    {
      "cell_type": "code",
      "metadata": {
        "colab": {
          "base_uri": "https://localhost:8080/"
        },
        "id": "8Yc-rnB68Yqg",
        "outputId": "95328660-db20-46be-9ca2-4c1a22e59fb5"
      },
      "source": [
        "arquivo = open(\"palavras.txt\",\"a\")\n",
        "\n",
        "arquivo.write(\"melancia\\n\")"
      ],
      "execution_count": 42,
      "outputs": [
        {
          "output_type": "execute_result",
          "data": {
            "text/plain": [
              "9"
            ]
          },
          "metadata": {
            "tags": []
          },
          "execution_count": 42
        }
      ]
    },
    {
      "cell_type": "code",
      "metadata": {
        "colab": {
          "base_uri": "https://localhost:8080/"
        },
        "id": "bl56KdPV8aO5",
        "outputId": "7d889d0b-b08f-4102-e20a-45f63b4cc31f"
      },
      "source": [
        "#adicionar conteudo\n",
        "\n",
        "arquivo = open(\"palavras.txt\",\"a\")\n",
        "\n",
        "arquivo.write(\"morango\\n\")"
      ],
      "execution_count": 43,
      "outputs": [
        {
          "output_type": "execute_result",
          "data": {
            "text/plain": [
              "8"
            ]
          },
          "metadata": {
            "tags": []
          },
          "execution_count": 43
        }
      ]
    },
    {
      "cell_type": "code",
      "metadata": {
        "colab": {
          "base_uri": "https://localhost:8080/"
        },
        "id": "HCaL8ouY8bRg",
        "outputId": "e0063c5f-47fc-401d-ae81-ccbe0c1c6ae9"
      },
      "source": [
        "arquivo = open(\"palavras.txt\",\"a\")\n",
        "arquivo.write(\"maçã\")"
      ],
      "execution_count": 44,
      "outputs": [
        {
          "output_type": "execute_result",
          "data": {
            "text/plain": [
              "4"
            ]
          },
          "metadata": {
            "tags": []
          },
          "execution_count": 44
        }
      ]
    },
    {
      "cell_type": "code",
      "metadata": {
        "colab": {
          "base_uri": "https://localhost:8080/"
        },
        "id": "wZRPKJfL8cCR",
        "outputId": "34e4a7c6-0c1b-43e8-8454-5c40632d4991"
      },
      "source": [
        "cat palavras.txt"
      ],
      "execution_count": 45,
      "outputs": [
        {
          "output_type": "stream",
          "text": [
            "banana\n",
            "melancia\n",
            "morango\n"
          ],
          "name": "stdout"
        }
      ]
    },
    {
      "cell_type": "code",
      "metadata": {
        "id": "BvOZEQT68c-J"
      },
      "source": [
        "#fechar o arquivo (boa prática)\n",
        "arquivo.close()"
      ],
      "execution_count": 46,
      "outputs": []
    },
    {
      "cell_type": "code",
      "metadata": {
        "colab": {
          "base_uri": "https://localhost:8080/"
        },
        "id": "ewvXJYh78ehQ",
        "outputId": "b705fa8c-d28f-4099-899a-8e03907fbe03"
      },
      "source": [
        "%ls"
      ],
      "execution_count": 47,
      "outputs": [
        {
          "output_type": "stream",
          "text": [
            "\u001b[0m\u001b[01;34mdrive\u001b[0m/  palavras.txt  \u001b[01;34msample_data\u001b[0m/\n"
          ],
          "name": "stdout"
        }
      ]
    },
    {
      "cell_type": "code",
      "metadata": {
        "id": "mcWWJILw8gbB"
      },
      "source": [
        "#para ler o arquivo:\n",
        "\n",
        "arquivo = open(\"palavras.txt\", \"r\")"
      ],
      "execution_count": 48,
      "outputs": []
    },
    {
      "cell_type": "code",
      "metadata": {
        "colab": {
          "base_uri": "https://localhost:8080/",
          "height": 35
        },
        "id": "KbNVRFvY8k5B",
        "outputId": "cd11c4d0-3422-45f7-fab3-524d7afad081"
      },
      "source": [
        "arquivo.read()"
      ],
      "execution_count": 49,
      "outputs": [
        {
          "output_type": "execute_result",
          "data": {
            "application/vnd.google.colaboratory.intrinsic+json": {
              "type": "string"
            },
            "text/plain": [
              "'banana\\nmelancia\\nmorango\\nmaçã'"
            ]
          },
          "metadata": {
            "tags": []
          },
          "execution_count": 49
        }
      ]
    },
    {
      "cell_type": "code",
      "metadata": {
        "colab": {
          "base_uri": "https://localhost:8080/"
        },
        "id": "kElKAo2p8lsQ",
        "outputId": "d67fcb4d-2be4-4ef8-c62c-785064253dea"
      },
      "source": [
        "#para olhar linha a linha:\n",
        "\n",
        "arquivo = open(\"palavras.txt\", \"r\")\n",
        "for linha in arquivo:\n",
        "  print(linha)"
      ],
      "execution_count": 50,
      "outputs": [
        {
          "output_type": "stream",
          "text": [
            "banana\n",
            "\n",
            "melancia\n",
            "\n",
            "morango\n",
            "\n",
            "maçã\n"
          ],
          "name": "stdout"
        }
      ]
    },
    {
      "cell_type": "code",
      "metadata": {
        "id": "DA9TxGXX8m9S"
      },
      "source": [
        "arquivo.close()"
      ],
      "execution_count": 51,
      "outputs": []
    },
    {
      "cell_type": "code",
      "metadata": {
        "colab": {
          "base_uri": "https://localhost:8080/"
        },
        "id": "CSfkf3498oCZ",
        "outputId": "1dcd9d09-4ba1-4a39-d335-6f5d699b2ed6"
      },
      "source": [
        "arquivo = open(\"palavras.txt\", \"r\")\n",
        "linha = arquivo.readline()\n",
        "type(linha)"
      ],
      "execution_count": 52,
      "outputs": [
        {
          "output_type": "execute_result",
          "data": {
            "text/plain": [
              "str"
            ]
          },
          "metadata": {
            "tags": []
          },
          "execution_count": 52
        }
      ]
    },
    {
      "cell_type": "code",
      "metadata": {
        "colab": {
          "base_uri": "https://localhost:8080/",
          "height": 35
        },
        "id": "ooXbrAu08o7h",
        "outputId": "55faf526-477f-4c26-8418-ea867f9e4a28"
      },
      "source": [
        "linha"
      ],
      "execution_count": 53,
      "outputs": [
        {
          "output_type": "execute_result",
          "data": {
            "application/vnd.google.colaboratory.intrinsic+json": {
              "type": "string"
            },
            "text/plain": [
              "'banana\\n'"
            ]
          },
          "metadata": {
            "tags": []
          },
          "execution_count": 53
        }
      ]
    },
    {
      "cell_type": "code",
      "metadata": {
        "colab": {
          "base_uri": "https://localhost:8080/",
          "height": 35
        },
        "id": "6kFl031E8pq5",
        "outputId": "a4e5477a-9d9f-4857-de26-486e90445bfa"
      },
      "source": [
        "#remove o \\n\n",
        "\n",
        "linha.strip()"
      ],
      "execution_count": 54,
      "outputs": [
        {
          "output_type": "execute_result",
          "data": {
            "application/vnd.google.colaboratory.intrinsic+json": {
              "type": "string"
            },
            "text/plain": [
              "'banana'"
            ]
          },
          "metadata": {
            "tags": []
          },
          "execution_count": 54
        }
      ]
    },
    {
      "cell_type": "code",
      "metadata": {
        "id": "MNvVXKGH8qp5"
      },
      "source": [
        "#Criação parte 6 Jogo da Forca:\n",
        "\n",
        "import random\n",
        "def jogar6():\n",
        "  \n",
        "  arquivo = open(\"palavras.txt\",\"r\")\n",
        "  palavras = []\n",
        "\n",
        "  for linha in arquivo:\n",
        "    linha = linha.strip()\n",
        "    palavras.append(linha)\n",
        "\n",
        "  arquivo.close()\n",
        "  #escolher aleatório uma palavra de um arquivo\n",
        "  numero = random.randrange(0,len(palavras))\n",
        "  palavra_secreta = palavras[numero]\n",
        "  \n",
        "  enforcou = False\n",
        "  acertou = False\n",
        "  \n",
        "  erros = 0\n",
        "\n",
        "  #determinando diretamente na lista\n",
        "  letras_acertadas = [\"_\" for letra in palavra_secreta]\n",
        "  \n",
        "  print(\"Palavra Secreta: {}\".format(letras_acertadas), end=\"\\n\\n\")\n",
        "  while (not enforcou and not acertou):\n",
        "    chute = input(\"Qual letra? \")\n",
        "    chute = chute.lower()\n",
        "    chute = chute.strip()\n",
        "\n",
        "    if (chute in palavra_secreta):\n",
        "      index = 0\n",
        "      for letra in palavra_secreta:\n",
        "        if (chute == letra):\n",
        "            letras_acertadas[index] = letra\n",
        "        index += 1\n",
        "    else:\n",
        "        erros += 1\n",
        "\n",
        "    enforcou = erros == 6\n",
        "    acertou = \"_\" not in letras_acertadas\n",
        "    print(letras_acertadas)\n",
        "    print(\"jogando...\", end=\"\\n\\n\")\n",
        "\n",
        "  if (acertou):\n",
        "    print(\"Você ganhou!\")\n",
        "  else:\n",
        "    print(\"Você perdeu!\")\n",
        "jogar6()"
      ],
      "execution_count": null,
      "outputs": []
    },
    {
      "cell_type": "code",
      "metadata": {
        "colab": {
          "base_uri": "https://localhost:8080/"
        },
        "id": "uHLqn0-w8wgA",
        "outputId": "a1d4549e-b102-4d2d-b99a-4150f7c654d4"
      },
      "source": [
        "#Jogo definitivo Forca:\n",
        "\n",
        "import random\n",
        "\n",
        "def jogarForca():\n",
        "  palavra_secreta = escolhe_palavra_secreta()\n",
        "  letras_acertadas = inicializa_letras_acertadas(palavra_secreta)\n",
        "  \n",
        "  print(\"Palavra Secreta: {}\".format(letras_acertadas), end=\"\\n\\n\")\n",
        "  \n",
        "  enforcou = False\n",
        "  acertou = False\n",
        "  erros = 0\n",
        " \n",
        "  while (not enforcou and not acertou):\n",
        "    chute = input(\"Qual letra? \")\n",
        "    chute = chute.lower()\n",
        "    chute = chute.strip()\n",
        "\n",
        "    if (chute in palavra_secreta):\n",
        "      marca_chute_correto(chute, palavra_secreta, letras_acertadas)\n",
        "    else:\n",
        "        erros += 1\n",
        "\n",
        "    enforcou = erros == 6\n",
        "    acertou = \"_\" not in letras_acertadas\n",
        "    print(letras_acertadas)\n",
        "    print(\"jogando...\", end=\"\\n\\n\")\n",
        "\n",
        "  if (acertou):\n",
        "    print(\"Você ganhou!\")\n",
        "  else:\n",
        "    print(\"Você perdeu!\")\n",
        "\n",
        "\n",
        "def escolhe_palavra_secreta():\n",
        "  arquivo = open(\"palavras.txt\",\"r\")\n",
        "  palavras = []\n",
        "\n",
        "  for linha in arquivo:\n",
        "    linha = linha.strip()\n",
        "    palavras.append(linha)\n",
        "\n",
        "  arquivo.close()\n",
        "\n",
        "  #escolher aleatório uma palavra de um arquivo\n",
        "  numero = random.randrange(0,len(palavras))\n",
        "  palavra_secreta = palavras[numero]\n",
        "\n",
        "  return palavra_secreta\n",
        "\n",
        "def inicializa_letras_acertadas(palavra_secreta):\n",
        "  palavra_secreta = escolhe_palavra_secreta()\n",
        "  return [\"_\" for letra in palavra_secreta]\n",
        "\n",
        "\n",
        "def marca_chute_correto(chute, palavra_secreta, letras_acertadas):\n",
        "  index = 0\n",
        "  for letra in palavra_secreta:\n",
        "    if (chute == letra):\n",
        "      letras_acertadas[index] = letra\n",
        "    index += 1\n",
        "\n",
        "if (__name__ == \"__main__\"):\n",
        "  jogarForca()"
      ],
      "execution_count": 56,
      "outputs": [
        {
          "output_type": "stream",
          "text": [
            "Palavra Secreta: ['_', '_', '_', '_']\n",
            "\n",
            "Qual letra? A\n",
            "['_', 'a', '_', '_']\n",
            "jogando...\n",
            "\n",
            "Qual letra? m\n",
            "['m', 'a', '_', '_']\n",
            "jogando...\n",
            "\n",
            "Qual letra? ç\n",
            "['m', 'a', 'ç', '_']\n",
            "jogando...\n",
            "\n",
            "Qual letra? a\n",
            "['m', 'a', 'ç', '_']\n",
            "jogando...\n",
            "\n",
            "Qual letra? ã\n",
            "['m', 'a', 'ç', 'ã']\n",
            "jogando...\n",
            "\n",
            "Você ganhou!\n"
          ],
          "name": "stdout"
        }
      ]
    },
    {
      "cell_type": "code",
      "metadata": {
        "id": "ovPC_X5x9BwP"
      },
      "source": [
        "#Tela de Seleção de Jogo:\n",
        "\n",
        "print(\"Escolha seu jogo: \",end=\"\\n\\n\\n\")\n",
        "print(\"1 - Forca ou 2 - Adivinhação\", end=\"\\n\\n\")\n",
        "jogo = int(input(\"Qual jogo? \"))\n",
        "if (jogo == 1):\n",
        "  print(\"Jogando Forca\")\n",
        "  jogarForca()\n",
        "elif (jogo == 2):\n",
        "    jogarAdivinha()"
      ],
      "execution_count": null,
      "outputs": []
    }
  ]
}