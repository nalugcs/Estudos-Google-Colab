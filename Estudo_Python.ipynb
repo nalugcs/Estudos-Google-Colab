{
  "nbformat": 4,
  "nbformat_minor": 0,
  "metadata": {
    "colab": {
      "name": "Estudo Python.ipynb",
      "provenance": [],
      "collapsed_sections": [],
      "mount_file_id": "1njOgxzYSigJCqllKaB4CZq8Yklr5_HlP",
      "authorship_tag": "ABX9TyNS4lzLRqhZD8KbIp98V33h",
      "include_colab_link": true
    },
    "kernelspec": {
      "name": "python3",
      "display_name": "Python 3"
    },
    "language_info": {
      "name": "python"
    }
  },
  "cells": [
    {
      "cell_type": "markdown",
      "metadata": {
        "id": "view-in-github",
        "colab_type": "text"
      },
      "source": [
        "<a href=\"https://colab.research.google.com/github/nalugcs/Estudos-Google-Colab/blob/Estudos/Estudo_Python.ipynb\" target=\"_parent\"><img src=\"https://colab.research.google.com/assets/colab-badge.svg\" alt=\"Open In Colab\"/></a>"
      ]
    },
    {
      "cell_type": "markdown",
      "metadata": {
        "id": "D5g-T6QzWZq6"
      },
      "source": [
        "#**Estudo de Python**"
      ]
    },
    {
      "cell_type": "markdown",
      "metadata": {
        "id": "U8npkLpTXm9x"
      },
      "source": [
        "Parte Inicial"
      ]
    },
    {
      "cell_type": "code",
      "metadata": {
        "id": "kFBqM_ryfSg7",
        "colab": {
          "base_uri": "https://localhost:8080/"
        },
        "outputId": "d299705c-8062-4664-d2ed-58059435f272"
      },
      "source": [
        "from google.colab import drive\n",
        "drive.mount('/content/drive')"
      ],
      "execution_count": null,
      "outputs": [
        {
          "output_type": "stream",
          "text": [
            "Drive already mounted at /content/drive; to attempt to forcibly remount, call drive.mount(\"/content/drive\", force_remount=True).\n"
          ],
          "name": "stdout"
        }
      ]
    },
    {
      "cell_type": "code",
      "metadata": {
        "colab": {
          "base_uri": "https://localhost:8080/"
        },
        "id": "ezzMJQx7WvDG",
        "outputId": "327360a5-7cc8-45f3-f09a-9fb316013c8d"
      },
      "source": [
        "print('Estudo Python')"
      ],
      "execution_count": null,
      "outputs": [
        {
          "output_type": "stream",
          "text": [
            "Estudo Python\n"
          ],
          "name": "stdout"
        }
      ]
    },
    {
      "cell_type": "code",
      "metadata": {
        "colab": {
          "base_uri": "https://localhost:8080/",
          "height": 35
        },
        "id": "ROPpCXGQXCh3",
        "outputId": "8f78c11e-d71a-48a2-9a3b-7e2758b1ba8d"
      },
      "source": [
        "texto = 'Texto'\n",
        "texto"
      ],
      "execution_count": null,
      "outputs": [
        {
          "output_type": "execute_result",
          "data": {
            "application/vnd.google.colaboratory.intrinsic+json": {
              "type": "string"
            },
            "text/plain": [
              "'Texto'"
            ]
          },
          "metadata": {
            "tags": []
          },
          "execution_count": 42
        }
      ]
    },
    {
      "cell_type": "code",
      "metadata": {
        "colab": {
          "base_uri": "https://localhost:8080/"
        },
        "id": "QG_Uu6rhXTg3",
        "outputId": "13eeb42a-7e63-4a7b-905a-f522882b93cb"
      },
      "source": [
        "type(texto)"
      ],
      "execution_count": null,
      "outputs": [
        {
          "output_type": "execute_result",
          "data": {
            "text/plain": [
              "str"
            ]
          },
          "metadata": {
            "tags": []
          },
          "execution_count": 43
        }
      ]
    },
    {
      "cell_type": "code",
      "metadata": {
        "colab": {
          "base_uri": "https://localhost:8080/"
        },
        "id": "pEekmeoLXVo_",
        "outputId": "e47543cc-4a2d-4497-ec8f-6f44bb4b79ee"
      },
      "source": [
        "numero = 4\n",
        "numero"
      ],
      "execution_count": null,
      "outputs": [
        {
          "output_type": "execute_result",
          "data": {
            "text/plain": [
              "4"
            ]
          },
          "metadata": {
            "tags": []
          },
          "execution_count": 44
        }
      ]
    },
    {
      "cell_type": "code",
      "metadata": {
        "colab": {
          "base_uri": "https://localhost:8080/"
        },
        "id": "Nb4AFHbvXbqv",
        "outputId": "d1bff9f6-1d6f-4b06-d689-b7743b005b91"
      },
      "source": [
        "type(numero)"
      ],
      "execution_count": null,
      "outputs": [
        {
          "output_type": "execute_result",
          "data": {
            "text/plain": [
              "int"
            ]
          },
          "metadata": {
            "tags": []
          },
          "execution_count": 45
        }
      ]
    },
    {
      "cell_type": "code",
      "metadata": {
        "colab": {
          "base_uri": "https://localhost:8080/"
        },
        "id": "r91kcqYtXcqO",
        "outputId": "9b28dfe7-610a-4b22-cff6-372b7ff59151"
      },
      "source": [
        "print(texto, numero)"
      ],
      "execution_count": null,
      "outputs": [
        {
          "output_type": "stream",
          "text": [
            "Texto 4\n"
          ],
          "name": "stdout"
        }
      ]
    },
    {
      "cell_type": "code",
      "metadata": {
        "colab": {
          "base_uri": "https://localhost:8080/"
        },
        "id": "TgsPRh3bXfwn",
        "outputId": "4c52230f-a604-4f4a-d76d-59cae76b7f34"
      },
      "source": [
        "dia = 11\n",
        "mes = 6\n",
        "ano = 1998\n",
        "print(dia,mes,ano, sep='/')"
      ],
      "execution_count": null,
      "outputs": [
        {
          "output_type": "stream",
          "text": [
            "11/6/1998\n"
          ],
          "name": "stdout"
        }
      ]
    },
    {
      "cell_type": "code",
      "metadata": {
        "colab": {
          "base_uri": "https://localhost:8080/"
        },
        "id": "Gm4fpemTX7In",
        "outputId": "e2737ae1-1cd7-4361-e43d-68ad3f4df0e2"
      },
      "source": [
        "%ls"
      ],
      "execution_count": null,
      "outputs": [
        {
          "output_type": "stream",
          "text": [
            "adivinha.py  \u001b[0m\u001b[01;34mdrive\u001b[0m/  forca.py  \u001b[01;34m__pycache__\u001b[0m/  \u001b[01;34msample_data\u001b[0m/\n"
          ],
          "name": "stdout"
        }
      ]
    },
    {
      "cell_type": "code",
      "metadata": {
        "colab": {
          "base_uri": "https://localhost:8080/"
        },
        "id": "wotdat86aF5L",
        "outputId": "986fb18a-9510-407f-c88d-424576240414"
      },
      "source": [
        "#Teste Jogo Adivinhação:\n",
        "print(\"Jogo de adivinhação\", end= '\\n\\n')\n",
        "\n",
        "nro_secreto = 11\n",
        "total_tentativas = 3\n",
        "rodada = 1\n",
        "\n",
        "\n",
        "while(total_tentativas >= rodada):\n",
        "  print(\"Tentativa {} de {}\".format(rodada, total_tentativas), end=\"\\n\")\n",
        "  chute = input(\"Digite seu número positivo: \")\n",
        "  chute_numero = int(chute)\n",
        "\n",
        "  if (chute_numero < 0):\n",
        "    print(\"Número inserido errado!\", end=\"\\n \\n\")\n",
        "    continue\n",
        "  else:\n",
        "      maior = chute_numero > nro_secreto\n",
        "      menor = chute_numero < nro_secreto\n",
        "\n",
        "      if (nro_secreto == chute_numero):\n",
        "        print(\"Você acertou!\")\n",
        "        break\n",
        "      else:\n",
        "        if (maior):\n",
        "          print(\"Você errou! O número é menor do que você chutou!\", end=\"\\n \\n\")\n",
        "        elif (menor):\n",
        "            print(\"Você errou! O número é maior do que você chutou!\", end = \"\\n \\n\")\n",
        "\n",
        "      rodada = rodada + 1"
      ],
      "execution_count": null,
      "outputs": [
        {
          "output_type": "stream",
          "text": [
            "Jogo de adivinhação\n",
            "\n",
            "Tentativa 1 de 3\n",
            "Digite seu número positivo: 10\n",
            "Você errou! O número é maior do que você chutou!\n",
            " \n",
            "Tentativa 2 de 3\n",
            "Digite seu número positivo: 10\n",
            "Você errou! O número é maior do que você chutou!\n",
            " \n",
            "Tentativa 3 de 3\n",
            "Digite seu número positivo: 11\n",
            "Você acertou!\n"
          ],
          "name": "stdout"
        }
      ]
    },
    {
      "cell_type": "code",
      "metadata": {
        "colab": {
          "base_uri": "https://localhost:8080/"
        },
        "id": "dEeIrCnHae_W",
        "outputId": "39c819c0-b028-4c27-ae6b-f80b814839c9"
      },
      "source": [
        "print(\"R$ {:.2f}\".format(11.06))"
      ],
      "execution_count": null,
      "outputs": [
        {
          "output_type": "stream",
          "text": [
            "R$ 11.06\n"
          ],
          "name": "stdout"
        }
      ]
    },
    {
      "cell_type": "code",
      "metadata": {
        "colab": {
          "base_uri": "https://localhost:8080/"
        },
        "id": "xn9MrTLCmLCU",
        "outputId": "fd47b5b5-da2e-4ab0-ff4d-e672b8eecc62"
      },
      "source": [
        "print(\"R$ {:06.2f}\".format(11.06))"
      ],
      "execution_count": null,
      "outputs": [
        {
          "output_type": "stream",
          "text": [
            "R$ 011.06\n"
          ],
          "name": "stdout"
        }
      ]
    },
    {
      "cell_type": "code",
      "metadata": {
        "colab": {
          "base_uri": "https://localhost:8080/"
        },
        "id": "u3emC9-emTDE",
        "outputId": "84819750-18e3-4351-ef52-97fed3a25cf5"
      },
      "source": [
        "print(\"teste de números: {:06d}\".format(11))"
      ],
      "execution_count": null,
      "outputs": [
        {
          "output_type": "stream",
          "text": [
            "teste de números: 000011\n"
          ],
          "name": "stdout"
        }
      ]
    },
    {
      "cell_type": "code",
      "metadata": {
        "colab": {
          "base_uri": "https://localhost:8080/"
        },
        "id": "-SXkIhQMmo16",
        "outputId": "4850c658-d963-4839-92df-bb080f998328"
      },
      "source": [
        "print(\"Teste de data: {:02d}/{:02d}/{:4d}\".format(11,6,1998))"
      ],
      "execution_count": null,
      "outputs": [
        {
          "output_type": "stream",
          "text": [
            "Teste de data: 11/06/1998\n"
          ],
          "name": "stdout"
        }
      ]
    },
    {
      "cell_type": "code",
      "metadata": {
        "colab": {
          "base_uri": "https://localhost:8080/"
        },
        "id": "j-8CSgcsatuE",
        "outputId": "06e04bab-570c-46c1-9a97-905cabeb62e9"
      },
      "source": [
        "#import forca\n",
        "import Jogo_Adivinha\n",
        "\n",
        "print(\"Escolha seu jogo: \",end=\"\\n\\n\\n\")\n",
        "print(\"1 - Forca ou 2 - Adivinhação\", end=\"\\n\\n\")\n",
        "jogo = int(input(\"Qual jogo? \"))\n",
        "if (jogo == 1):\n",
        "  print(\"Jogando Forca\")\n",
        "  #forca.jogar()\n",
        "elif (jogo == 2):\n",
        "      Jogo_Adivinha.jogar()"
      ],
      "execution_count": 2,
      "outputs": [
        {
          "output_type": "stream",
          "text": [
            "Escolha seu jogo: \n",
            "\n",
            "\n",
            "1 - Forca ou 2 - Adivinhação\n",
            "\n",
            "Qual jogo? 2\n",
            "Jogo de adivinhação\n",
            "\n",
            "Tentativa 1 de 2\n",
            "Digite seu número: 1\n",
            "Você errou! O número é maior do que você chutou!\n",
            " \n",
            "Tentativa 2 de 2\n",
            "Digite seu número: 50\n",
            "Você errou! O número é maior do que você chutou!\n",
            " \n",
            "Fim do Jogo! O Número era: 88\n"
          ],
          "name": "stdout"
        }
      ]
    },
    {
      "cell_type": "code",
      "metadata": {
        "id": "DsAryNjD8SVy"
      },
      "source": [
        "def jogar1():\n",
        "  \n",
        "  palavra_secreta = \"vivendo\"\n",
        "  enforcou = False\n",
        "  acertou = False\n",
        "  \n",
        "  #enquanto(True)\n",
        "  while(not enforcou and not acertou):\n",
        "    index = 0\n",
        "    chute = input(\"Qual letra? \")\n",
        "    #permanecer sempre minuscula\n",
        "    chute = chute.lower()\n",
        "    #retirar espaços\n",
        "    chute = chute.strip()\n",
        "    for letra in palavra_secreta:\n",
        "      if (chute == letra):\n",
        "        print(\"Encontrei a letra: {} na posição {}\".format(chute, index))\n",
        "      index = index + 1\n",
        "    print(\"jogando...\", end=\"\\n\\n\")\n",
        "jogar1()"
      ],
      "execution_count": null,
      "outputs": []
    },
    {
      "cell_type": "code",
      "metadata": {
        "id": "HIqCknxiCg64"
      },
      "source": [
        "palavra = \"teste\"\n",
        "\n",
        "palavra.find('l')"
      ],
      "execution_count": null,
      "outputs": []
    },
    {
      "cell_type": "code",
      "metadata": {
        "colab": {
          "base_uri": "https://localhost:8080/",
          "height": 35
        },
        "id": "LMe0OnZ8DhlR",
        "outputId": "d0156918-918d-4e4b-8aa1-8014bf703df2"
      },
      "source": [
        "palavra.capitalize()"
      ],
      "execution_count": 23,
      "outputs": [
        {
          "output_type": "execute_result",
          "data": {
            "application/vnd.google.colaboratory.intrinsic+json": {
              "type": "string"
            },
            "text/plain": [
              "'Teste'"
            ]
          },
          "metadata": {
            "tags": []
          },
          "execution_count": 23
        }
      ]
    },
    {
      "cell_type": "code",
      "metadata": {
        "colab": {
          "base_uri": "https://localhost:8080/"
        },
        "id": "FZgfEg2mElsQ",
        "outputId": "96d86439-ea33-4a47-a041-8582934b9c47"
      },
      "source": [
        "palavra.find('t')"
      ],
      "execution_count": 22,
      "outputs": [
        {
          "output_type": "execute_result",
          "data": {
            "text/plain": [
              "0"
            ]
          },
          "metadata": {
            "tags": []
          },
          "execution_count": 22
        }
      ]
    },
    {
      "cell_type": "code",
      "metadata": {
        "colab": {
          "base_uri": "https://localhost:8080/"
        },
        "id": "KPtH70b9EqSX",
        "outputId": "504191a5-0f90-44f4-bc2c-b6ee97a2dc6c"
      },
      "source": [
        "palavra.endswith(\"te\")"
      ],
      "execution_count": 24,
      "outputs": [
        {
          "output_type": "execute_result",
          "data": {
            "text/plain": [
              "True"
            ]
          },
          "metadata": {
            "tags": []
          },
          "execution_count": 24
        }
      ]
    },
    {
      "cell_type": "code",
      "metadata": {
        "colab": {
          "base_uri": "https://localhost:8080/",
          "height": 35
        },
        "id": "pfBxDtNBE3Xg",
        "outputId": "c02378b7-4431-4eeb-a648-e60c246501d8"
      },
      "source": [
        "testepalavra = palavra.upper()\n",
        "testepalavra"
      ],
      "execution_count": 30,
      "outputs": [
        {
          "output_type": "execute_result",
          "data": {
            "application/vnd.google.colaboratory.intrinsic+json": {
              "type": "string"
            },
            "text/plain": [
              "'TESTE'"
            ]
          },
          "metadata": {
            "tags": []
          },
          "execution_count": 30
        }
      ]
    },
    {
      "cell_type": "code",
      "metadata": {
        "colab": {
          "base_uri": "https://localhost:8080/",
          "height": 35
        },
        "id": "cSVf3vJFE-iY",
        "outputId": "dd0d0a59-a7af-4524-eb8d-11616db2a9ad"
      },
      "source": [
        "testepalavra.lower()"
      ],
      "execution_count": 29,
      "outputs": [
        {
          "output_type": "execute_result",
          "data": {
            "application/vnd.google.colaboratory.intrinsic+json": {
              "type": "string"
            },
            "text/plain": [
              "'teste'"
            ]
          },
          "metadata": {
            "tags": []
          },
          "execution_count": 29
        }
      ]
    },
    {
      "cell_type": "code",
      "metadata": {
        "id": "PXYkeyfWFC6v"
      },
      "source": [
        "def jogar2():\n",
        "  \n",
        "  palavra_secreta = \"banana\"\n",
        "  enforcou = False\n",
        "  acertou = False\n",
        "  \n",
        "  #lista\n",
        "  letras_acertadas = [\"_\",\"_\",\"_\",\"_\",\"_\",\"_\"]\n",
        "  \n",
        "  print(\"Palavra Secreta: {}\".format(letras_acertadas), end=\"\\n\\n\")\n",
        "  while(not enforcou and not acertou):\n",
        "    index = 0\n",
        "    chute = input(\"Qual letra? \")\n",
        "    chute = chute.lower()\n",
        "    chute = chute.strip()\n",
        "\n",
        "    for letra in palavra_secreta:\n",
        "      if (chute == letra):\n",
        "        letras_acertadas[index] = letra\n",
        "        \n",
        "      index = index + 1\n",
        "    print(letras_acertadas)\n",
        "    print(\"jogando...\", end=\"\\n\\n\")\n",
        "jogar2()"
      ],
      "execution_count": null,
      "outputs": []
    },
    {
      "cell_type": "code",
      "metadata": {
        "colab": {
          "base_uri": "https://localhost:8080/"
        },
        "id": "9pifbk72L3Qg",
        "outputId": "93bf6c0c-03e5-44e5-9965-533553c8d321"
      },
      "source": [
        "dias = ['seg','ter','qua','qui','sex','sab','dom']\n",
        "dias"
      ],
      "execution_count": 56,
      "outputs": [
        {
          "output_type": "execute_result",
          "data": {
            "text/plain": [
              "['seg', 'ter', 'qua', 'qui', 'sex', 'sab', 'dom']"
            ]
          },
          "metadata": {
            "tags": []
          },
          "execution_count": 56
        }
      ]
    },
    {
      "cell_type": "code",
      "metadata": {
        "id": "zGTxjX8KOWU0"
      },
      "source": [
        "dias.append('tex')"
      ],
      "execution_count": 52,
      "outputs": []
    },
    {
      "cell_type": "code",
      "metadata": {
        "colab": {
          "base_uri": "https://localhost:8080/"
        },
        "id": "I16N0OS0OZgm",
        "outputId": "c1cf80e5-8e26-497b-e8e2-38f7d159a1f4"
      },
      "source": [
        "dias"
      ],
      "execution_count": 53,
      "outputs": [
        {
          "output_type": "execute_result",
          "data": {
            "text/plain": [
              "['seg', 'ter', 'qua', 'qui', 'sex', 'sab', 'dom', 'tex']"
            ]
          },
          "metadata": {
            "tags": []
          },
          "execution_count": 53
        }
      ]
    },
    {
      "cell_type": "code",
      "metadata": {
        "colab": {
          "base_uri": "https://localhost:8080/",
          "height": 35
        },
        "id": "6FqIqoGkOaLu",
        "outputId": "ed4b8adb-a863-4f33-efc8-9e365563df6f"
      },
      "source": [
        "dias.pop()"
      ],
      "execution_count": 54,
      "outputs": [
        {
          "output_type": "execute_result",
          "data": {
            "application/vnd.google.colaboratory.intrinsic+json": {
              "type": "string"
            },
            "text/plain": [
              "'tex'"
            ]
          },
          "metadata": {
            "tags": []
          },
          "execution_count": 54
        }
      ]
    },
    {
      "cell_type": "code",
      "metadata": {
        "colab": {
          "base_uri": "https://localhost:8080/"
        },
        "id": "xlyuaXjEOhwm",
        "outputId": "386bb586-eb46-4d0b-aaae-1035962523fe"
      },
      "source": [
        "dias"
      ],
      "execution_count": 55,
      "outputs": [
        {
          "output_type": "execute_result",
          "data": {
            "text/plain": [
              "['seg', 'ter', 'qua', 'qui', 'sex', 'sab', 'dom']"
            ]
          },
          "metadata": {
            "tags": []
          },
          "execution_count": 55
        }
      ]
    },
    {
      "cell_type": "code",
      "metadata": {
        "colab": {
          "base_uri": "https://localhost:8080/"
        },
        "id": "QsMdqlQwOi9F",
        "outputId": "3570ff39-f312-4200-be13-9dd321661e20"
      },
      "source": [
        "#tuple é usado em parenteses, enquanto lista é por colchetes ([])\n",
        "\n",
        "dias_semana = ('seg', 'ter', 'qua', 'qui', 'sex', 'sab', 'dom')\n",
        "type(dias_semana)"
      ],
      "execution_count": 58,
      "outputs": [
        {
          "output_type": "execute_result",
          "data": {
            "text/plain": [
              "tuple"
            ]
          },
          "metadata": {
            "tags": []
          },
          "execution_count": 58
        }
      ]
    },
    {
      "cell_type": "code",
      "metadata": {
        "colab": {
          "base_uri": "https://localhost:8080/"
        },
        "id": "69FazMvMO0ZV",
        "outputId": "196f7529-cd4f-4e39-aaf3-7ad4c8a789be"
      },
      "source": [
        "dias_semana"
      ],
      "execution_count": 59,
      "outputs": [
        {
          "output_type": "execute_result",
          "data": {
            "text/plain": [
              "('seg', 'ter', 'qua', 'qui', 'sex', 'sab', 'dom')"
            ]
          },
          "metadata": {
            "tags": []
          },
          "execution_count": 59
        }
      ]
    },
    {
      "cell_type": "code",
      "metadata": {
        "id": "g7VhuoBWO5Dm"
      },
      "source": [
        ""
      ],
      "execution_count": null,
      "outputs": []
    }
  ]
}