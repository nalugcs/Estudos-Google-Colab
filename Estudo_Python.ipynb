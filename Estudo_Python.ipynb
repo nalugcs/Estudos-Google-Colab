{
  "nbformat": 4,
  "nbformat_minor": 0,
  "metadata": {
    "colab": {
      "name": "Estudo Python.ipynb",
      "provenance": [],
      "collapsed_sections": [],
      "mount_file_id": "1njOgxzYSigJCqllKaB4CZq8Yklr5_HlP",
      "authorship_tag": "ABX9TyM57+bR5dmtSCjUOcpMHM9V",
      "include_colab_link": true
    },
    "kernelspec": {
      "name": "python3",
      "display_name": "Python 3"
    },
    "language_info": {
      "name": "python"
    }
  },
  "cells": [
    {
      "cell_type": "markdown",
      "metadata": {
        "id": "view-in-github",
        "colab_type": "text"
      },
      "source": [
        "<a href=\"https://colab.research.google.com/github/nalugcs/Estudos-Google-Colab/blob/Estudos/Estudo_Python.ipynb\" target=\"_parent\"><img src=\"https://colab.research.google.com/assets/colab-badge.svg\" alt=\"Open In Colab\"/></a>"
      ]
    },
    {
      "cell_type": "markdown",
      "metadata": {
        "id": "D5g-T6QzWZq6"
      },
      "source": [
        "#**Estudo de Python**"
      ]
    },
    {
      "cell_type": "markdown",
      "metadata": {
        "id": "U8npkLpTXm9x"
      },
      "source": [
        "Parte Inicial"
      ]
    },
    {
      "cell_type": "code",
      "metadata": {
        "id": "kFBqM_ryfSg7",
        "colab": {
          "base_uri": "https://localhost:8080/"
        },
        "outputId": "d299705c-8062-4664-d2ed-58059435f272"
      },
      "source": [
        "from google.colab import drive\n",
        "drive.mount('/content/drive')"
      ],
      "execution_count": 40,
      "outputs": [
        {
          "output_type": "stream",
          "text": [
            "Drive already mounted at /content/drive; to attempt to forcibly remount, call drive.mount(\"/content/drive\", force_remount=True).\n"
          ],
          "name": "stdout"
        }
      ]
    },
    {
      "cell_type": "code",
      "metadata": {
        "colab": {
          "base_uri": "https://localhost:8080/"
        },
        "id": "ezzMJQx7WvDG",
        "outputId": "327360a5-7cc8-45f3-f09a-9fb316013c8d"
      },
      "source": [
        "print('Estudo Python')"
      ],
      "execution_count": 41,
      "outputs": [
        {
          "output_type": "stream",
          "text": [
            "Estudo Python\n"
          ],
          "name": "stdout"
        }
      ]
    },
    {
      "cell_type": "code",
      "metadata": {
        "colab": {
          "base_uri": "https://localhost:8080/",
          "height": 35
        },
        "id": "ROPpCXGQXCh3",
        "outputId": "8f78c11e-d71a-48a2-9a3b-7e2758b1ba8d"
      },
      "source": [
        "texto = 'Texto'\n",
        "texto"
      ],
      "execution_count": 42,
      "outputs": [
        {
          "output_type": "execute_result",
          "data": {
            "application/vnd.google.colaboratory.intrinsic+json": {
              "type": "string"
            },
            "text/plain": [
              "'Texto'"
            ]
          },
          "metadata": {
            "tags": []
          },
          "execution_count": 42
        }
      ]
    },
    {
      "cell_type": "code",
      "metadata": {
        "colab": {
          "base_uri": "https://localhost:8080/"
        },
        "id": "QG_Uu6rhXTg3",
        "outputId": "13eeb42a-7e63-4a7b-905a-f522882b93cb"
      },
      "source": [
        "type(texto)"
      ],
      "execution_count": 43,
      "outputs": [
        {
          "output_type": "execute_result",
          "data": {
            "text/plain": [
              "str"
            ]
          },
          "metadata": {
            "tags": []
          },
          "execution_count": 43
        }
      ]
    },
    {
      "cell_type": "code",
      "metadata": {
        "colab": {
          "base_uri": "https://localhost:8080/"
        },
        "id": "pEekmeoLXVo_",
        "outputId": "e47543cc-4a2d-4497-ec8f-6f44bb4b79ee"
      },
      "source": [
        "numero = 4\n",
        "numero"
      ],
      "execution_count": 44,
      "outputs": [
        {
          "output_type": "execute_result",
          "data": {
            "text/plain": [
              "4"
            ]
          },
          "metadata": {
            "tags": []
          },
          "execution_count": 44
        }
      ]
    },
    {
      "cell_type": "code",
      "metadata": {
        "colab": {
          "base_uri": "https://localhost:8080/"
        },
        "id": "Nb4AFHbvXbqv",
        "outputId": "d1bff9f6-1d6f-4b06-d689-b7743b005b91"
      },
      "source": [
        "type(numero)"
      ],
      "execution_count": 45,
      "outputs": [
        {
          "output_type": "execute_result",
          "data": {
            "text/plain": [
              "int"
            ]
          },
          "metadata": {
            "tags": []
          },
          "execution_count": 45
        }
      ]
    },
    {
      "cell_type": "code",
      "metadata": {
        "colab": {
          "base_uri": "https://localhost:8080/"
        },
        "id": "r91kcqYtXcqO",
        "outputId": "9b28dfe7-610a-4b22-cff6-372b7ff59151"
      },
      "source": [
        "print(texto, numero)"
      ],
      "execution_count": 46,
      "outputs": [
        {
          "output_type": "stream",
          "text": [
            "Texto 4\n"
          ],
          "name": "stdout"
        }
      ]
    },
    {
      "cell_type": "code",
      "metadata": {
        "colab": {
          "base_uri": "https://localhost:8080/"
        },
        "id": "TgsPRh3bXfwn",
        "outputId": "4c52230f-a604-4f4a-d76d-59cae76b7f34"
      },
      "source": [
        "dia = 11\n",
        "mes = 6\n",
        "ano = 1998\n",
        "print(dia,mes,ano, sep='/')"
      ],
      "execution_count": 47,
      "outputs": [
        {
          "output_type": "stream",
          "text": [
            "11/6/1998\n"
          ],
          "name": "stdout"
        }
      ]
    },
    {
      "cell_type": "code",
      "metadata": {
        "colab": {
          "base_uri": "https://localhost:8080/"
        },
        "id": "Gm4fpemTX7In",
        "outputId": "9a1c0f5c-424a-4f70-e5e3-345acb330bb1"
      },
      "source": [
        "%ls"
      ],
      "execution_count": 48,
      "outputs": [
        {
          "output_type": "stream",
          "text": [
            "adivinhacao.py  \u001b[0m\u001b[01;34mdrive\u001b[0m/  \u001b[01;34m__pycache__\u001b[0m/  \u001b[01;34msample_data\u001b[0m/\n"
          ],
          "name": "stdout"
        }
      ]
    },
    {
      "cell_type": "code",
      "metadata": {
        "colab": {
          "base_uri": "https://localhost:8080/"
        },
        "id": "wotdat86aF5L",
        "outputId": "986fb18a-9510-407f-c88d-424576240414"
      },
      "source": [
        "#Teste Jogo Adivinhação:\n",
        "print(\"Jogo de adivinhação\", end= '\\n\\n')\n",
        "\n",
        "nro_secreto = 11\n",
        "total_tentativas = 3\n",
        "rodada = 1\n",
        "\n",
        "\n",
        "while(total_tentativas >= rodada):\n",
        "  print(\"Tentativa {} de {}\".format(rodada, total_tentativas), end=\"\\n\")\n",
        "  chute = input(\"Digite seu número positivo: \")\n",
        "  chute_numero = int(chute)\n",
        "\n",
        "  if (chute_numero < 0):\n",
        "    print(\"Número inserido errado!\", end=\"\\n \\n\")\n",
        "    continue\n",
        "  else:\n",
        "      maior = chute_numero > nro_secreto\n",
        "      menor = chute_numero < nro_secreto\n",
        "\n",
        "      if (nro_secreto == chute_numero):\n",
        "        print(\"Você acertou!\")\n",
        "        break\n",
        "      else:\n",
        "        if (maior):\n",
        "          print(\"Você errou! O número é menor do que você chutou!\", end=\"\\n \\n\")\n",
        "        elif (menor):\n",
        "            print(\"Você errou! O número é maior do que você chutou!\", end = \"\\n \\n\")\n",
        "\n",
        "      rodada = rodada + 1"
      ],
      "execution_count": 49,
      "outputs": [
        {
          "output_type": "stream",
          "text": [
            "Jogo de adivinhação\n",
            "\n",
            "Tentativa 1 de 3\n",
            "Digite seu número positivo: 10\n",
            "Você errou! O número é maior do que você chutou!\n",
            " \n",
            "Tentativa 2 de 3\n",
            "Digite seu número positivo: 10\n",
            "Você errou! O número é maior do que você chutou!\n",
            " \n",
            "Tentativa 3 de 3\n",
            "Digite seu número positivo: 11\n",
            "Você acertou!\n"
          ],
          "name": "stdout"
        }
      ]
    },
    {
      "cell_type": "code",
      "metadata": {
        "colab": {
          "base_uri": "https://localhost:8080/"
        },
        "id": "dEeIrCnHae_W",
        "outputId": "39c819c0-b028-4c27-ae6b-f80b814839c9"
      },
      "source": [
        "print(\"R$ {:.2f}\".format(11.06))"
      ],
      "execution_count": 50,
      "outputs": [
        {
          "output_type": "stream",
          "text": [
            "R$ 11.06\n"
          ],
          "name": "stdout"
        }
      ]
    },
    {
      "cell_type": "code",
      "metadata": {
        "colab": {
          "base_uri": "https://localhost:8080/"
        },
        "id": "xn9MrTLCmLCU",
        "outputId": "fd47b5b5-da2e-4ab0-ff4d-e672b8eecc62"
      },
      "source": [
        "print(\"R$ {:06.2f}\".format(11.06))"
      ],
      "execution_count": 51,
      "outputs": [
        {
          "output_type": "stream",
          "text": [
            "R$ 011.06\n"
          ],
          "name": "stdout"
        }
      ]
    },
    {
      "cell_type": "code",
      "metadata": {
        "colab": {
          "base_uri": "https://localhost:8080/"
        },
        "id": "u3emC9-emTDE",
        "outputId": "84819750-18e3-4351-ef52-97fed3a25cf5"
      },
      "source": [
        "print(\"teste de números: {:06d}\".format(11))"
      ],
      "execution_count": 52,
      "outputs": [
        {
          "output_type": "stream",
          "text": [
            "teste de números: 000011\n"
          ],
          "name": "stdout"
        }
      ]
    },
    {
      "cell_type": "code",
      "metadata": {
        "colab": {
          "base_uri": "https://localhost:8080/"
        },
        "id": "-SXkIhQMmo16",
        "outputId": "4850c658-d963-4839-92df-bb080f998328"
      },
      "source": [
        "print(\"Teste de data: {:02d}/{:02d}/{:4d}\".format(11,6,1998))"
      ],
      "execution_count": 53,
      "outputs": [
        {
          "output_type": "stream",
          "text": [
            "Teste de data: 11/06/1998\n"
          ],
          "name": "stdout"
        }
      ]
    },
    {
      "cell_type": "code",
      "metadata": {
        "colab": {
          "base_uri": "https://localhost:8080/"
        },
        "id": "j-8CSgcsatuE",
        "outputId": "ae802851-7b58-40f9-9eb5-afa14fa49c7b"
      },
      "source": [
        "import forca\n",
        "import adivinha\n",
        "\n",
        "print(\"Escolha seu jogo: \",end=\"\\n\\n\\n\")\n",
        "print(\"1 - Forca ou 2 - Adivinhação\", end=\"\\n\\n\")\n",
        "jogo = int(input(\"Qual jogo? \"))\n",
        "if (jogo == 1):\n",
        "  print(\"Jogando Forca\")\n",
        "  forca.jogar()\n",
        "elif (jogo == 2):\n",
        "   print(\"Jogando Adivinhação\")\n",
        "   adivinha.jogar()"
      ],
      "execution_count": 85,
      "outputs": [
        {
          "output_type": "stream",
          "text": [
            "Escolha seu jogo: \n",
            "\n",
            "\n",
            "1 - Forca ou 2 - Adivinhação\n",
            "\n",
            "Qual jogo? 2\n",
            "Jogando Adivinhação\n",
            "Jogo de adivinhação\n",
            "\n",
            "Tentativa 1 de 2\n",
            "Digite seu número positivo: 1\n",
            "Você errou! O número é maior do que você chutou!\n",
            " \n",
            "Tentativa 2 de 2\n",
            "Digite seu número positivo: 2\n",
            "Você errou! O número é maior do que você chutou!\n",
            " \n"
          ],
          "name": "stdout"
        }
      ]
    },
    {
      "cell_type": "code",
      "metadata": {
        "id": "6jtbZOAa3Qoj"
      },
      "source": [
        ""
      ],
      "execution_count": null,
      "outputs": []
    }
  ]
}