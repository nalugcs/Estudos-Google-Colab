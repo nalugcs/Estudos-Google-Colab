{
  "nbformat": 4,
  "nbformat_minor": 0,
  "metadata": {
    "colab": {
      "name": "Estudo Python.ipynb",
      "provenance": [],
      "collapsed_sections": [],
      "mount_file_id": "1njOgxzYSigJCqllKaB4CZq8Yklr5_HlP",
      "authorship_tag": "ABX9TyMVn/wjY/qtgh2AHyU/itNN",
      "include_colab_link": true
    },
    "kernelspec": {
      "name": "python3",
      "display_name": "Python 3"
    },
    "language_info": {
      "name": "python"
    }
  },
  "cells": [
    {
      "cell_type": "markdown",
      "metadata": {
        "id": "view-in-github",
        "colab_type": "text"
      },
      "source": [
        "<a href=\"https://colab.research.google.com/github/nalugcs/Estudos-Google-Colab/blob/Estudos/Estudo_Python.ipynb\" target=\"_parent\"><img src=\"https://colab.research.google.com/assets/colab-badge.svg\" alt=\"Open In Colab\"/></a>"
      ]
    },
    {
      "cell_type": "markdown",
      "metadata": {
        "id": "D5g-T6QzWZq6"
      },
      "source": [
        "#**Estudo de Python**"
      ]
    },
    {
      "cell_type": "markdown",
      "metadata": {
        "id": "U8npkLpTXm9x"
      },
      "source": [
        "###**Curso Alura - Python**\n",
        "\n",
        "> Realizado em Agosto de 2021\n",
        "\n",
        "\n",
        "\n"
      ]
    },
    {
      "cell_type": "code",
      "metadata": {
        "id": "kFBqM_ryfSg7",
        "colab": {
          "base_uri": "https://localhost:8080/"
        },
        "outputId": "d299705c-8062-4664-d2ed-58059435f272"
      },
      "source": [
        "from google.colab import drive\n",
        "drive.mount('/content/drive')"
      ],
      "execution_count": null,
      "outputs": [
        {
          "output_type": "stream",
          "text": [
            "Drive already mounted at /content/drive; to attempt to forcibly remount, call drive.mount(\"/content/drive\", force_remount=True).\n"
          ],
          "name": "stdout"
        }
      ]
    },
    {
      "cell_type": "code",
      "metadata": {
        "colab": {
          "base_uri": "https://localhost:8080/"
        },
        "id": "ezzMJQx7WvDG",
        "outputId": "327360a5-7cc8-45f3-f09a-9fb316013c8d"
      },
      "source": [
        "print('Estudo Python')"
      ],
      "execution_count": null,
      "outputs": [
        {
          "output_type": "stream",
          "text": [
            "Estudo Python\n"
          ],
          "name": "stdout"
        }
      ]
    },
    {
      "cell_type": "code",
      "metadata": {
        "colab": {
          "base_uri": "https://localhost:8080/",
          "height": 35
        },
        "id": "ROPpCXGQXCh3",
        "outputId": "8f78c11e-d71a-48a2-9a3b-7e2758b1ba8d"
      },
      "source": [
        "texto = 'Texto'\n",
        "texto"
      ],
      "execution_count": null,
      "outputs": [
        {
          "output_type": "execute_result",
          "data": {
            "application/vnd.google.colaboratory.intrinsic+json": {
              "type": "string"
            },
            "text/plain": [
              "'Texto'"
            ]
          },
          "metadata": {
            "tags": []
          },
          "execution_count": 42
        }
      ]
    },
    {
      "cell_type": "code",
      "metadata": {
        "colab": {
          "base_uri": "https://localhost:8080/"
        },
        "id": "QG_Uu6rhXTg3",
        "outputId": "13eeb42a-7e63-4a7b-905a-f522882b93cb"
      },
      "source": [
        "type(texto)"
      ],
      "execution_count": null,
      "outputs": [
        {
          "output_type": "execute_result",
          "data": {
            "text/plain": [
              "str"
            ]
          },
          "metadata": {
            "tags": []
          },
          "execution_count": 43
        }
      ]
    },
    {
      "cell_type": "code",
      "metadata": {
        "colab": {
          "base_uri": "https://localhost:8080/"
        },
        "id": "pEekmeoLXVo_",
        "outputId": "e47543cc-4a2d-4497-ec8f-6f44bb4b79ee"
      },
      "source": [
        "numero = 4\n",
        "numero"
      ],
      "execution_count": null,
      "outputs": [
        {
          "output_type": "execute_result",
          "data": {
            "text/plain": [
              "4"
            ]
          },
          "metadata": {
            "tags": []
          },
          "execution_count": 44
        }
      ]
    },
    {
      "cell_type": "code",
      "metadata": {
        "colab": {
          "base_uri": "https://localhost:8080/"
        },
        "id": "Nb4AFHbvXbqv",
        "outputId": "d1bff9f6-1d6f-4b06-d689-b7743b005b91"
      },
      "source": [
        "type(numero)"
      ],
      "execution_count": null,
      "outputs": [
        {
          "output_type": "execute_result",
          "data": {
            "text/plain": [
              "int"
            ]
          },
          "metadata": {
            "tags": []
          },
          "execution_count": 45
        }
      ]
    },
    {
      "cell_type": "code",
      "metadata": {
        "colab": {
          "base_uri": "https://localhost:8080/"
        },
        "id": "r91kcqYtXcqO",
        "outputId": "9b28dfe7-610a-4b22-cff6-372b7ff59151"
      },
      "source": [
        "print(texto, numero)"
      ],
      "execution_count": null,
      "outputs": [
        {
          "output_type": "stream",
          "text": [
            "Texto 4\n"
          ],
          "name": "stdout"
        }
      ]
    },
    {
      "cell_type": "code",
      "metadata": {
        "colab": {
          "base_uri": "https://localhost:8080/"
        },
        "id": "TgsPRh3bXfwn",
        "outputId": "4c52230f-a604-4f4a-d76d-59cae76b7f34"
      },
      "source": [
        "dia = 11\n",
        "mes = 6\n",
        "ano = 1998\n",
        "print(dia,mes,ano, sep='/')"
      ],
      "execution_count": null,
      "outputs": [
        {
          "output_type": "stream",
          "text": [
            "11/6/1998\n"
          ],
          "name": "stdout"
        }
      ]
    },
    {
      "cell_type": "code",
      "metadata": {
        "colab": {
          "base_uri": "https://localhost:8080/"
        },
        "id": "Gm4fpemTX7In",
        "outputId": "e2737ae1-1cd7-4361-e43d-68ad3f4df0e2"
      },
      "source": [
        "%ls"
      ],
      "execution_count": null,
      "outputs": [
        {
          "output_type": "stream",
          "text": [
            "adivinha.py  \u001b[0m\u001b[01;34mdrive\u001b[0m/  forca.py  \u001b[01;34m__pycache__\u001b[0m/  \u001b[01;34msample_data\u001b[0m/\n"
          ],
          "name": "stdout"
        }
      ]
    },
    {
      "cell_type": "code",
      "metadata": {
        "colab": {
          "base_uri": "https://localhost:8080/"
        },
        "id": "wotdat86aF5L",
        "outputId": "986fb18a-9510-407f-c88d-424576240414"
      },
      "source": [
        "#Teste Jogo Adivinhação:\n",
        "print(\"Jogo de adivinhação\", end= '\\n\\n')\n",
        "\n",
        "nro_secreto = 11\n",
        "total_tentativas = 3\n",
        "rodada = 1\n",
        "\n",
        "\n",
        "while(total_tentativas >= rodada):\n",
        "  print(\"Tentativa {} de {}\".format(rodada, total_tentativas), end=\"\\n\")\n",
        "  chute = input(\"Digite seu número positivo: \")\n",
        "  chute_numero = int(chute)\n",
        "\n",
        "  if (chute_numero < 0):\n",
        "    print(\"Número inserido errado!\", end=\"\\n \\n\")\n",
        "    continue\n",
        "  else:\n",
        "      maior = chute_numero > nro_secreto\n",
        "      menor = chute_numero < nro_secreto\n",
        "\n",
        "      if (nro_secreto == chute_numero):\n",
        "        print(\"Você acertou!\")\n",
        "        break\n",
        "      else:\n",
        "        if (maior):\n",
        "          print(\"Você errou! O número é menor do que você chutou!\", end=\"\\n \\n\")\n",
        "        elif (menor):\n",
        "            print(\"Você errou! O número é maior do que você chutou!\", end = \"\\n \\n\")\n",
        "\n",
        "      rodada = rodada + 1"
      ],
      "execution_count": null,
      "outputs": [
        {
          "output_type": "stream",
          "text": [
            "Jogo de adivinhação\n",
            "\n",
            "Tentativa 1 de 3\n",
            "Digite seu número positivo: 10\n",
            "Você errou! O número é maior do que você chutou!\n",
            " \n",
            "Tentativa 2 de 3\n",
            "Digite seu número positivo: 10\n",
            "Você errou! O número é maior do que você chutou!\n",
            " \n",
            "Tentativa 3 de 3\n",
            "Digite seu número positivo: 11\n",
            "Você acertou!\n"
          ],
          "name": "stdout"
        }
      ]
    },
    {
      "cell_type": "code",
      "metadata": {
        "colab": {
          "base_uri": "https://localhost:8080/"
        },
        "id": "dEeIrCnHae_W",
        "outputId": "39c819c0-b028-4c27-ae6b-f80b814839c9"
      },
      "source": [
        "print(\"R$ {:.2f}\".format(11.06))"
      ],
      "execution_count": null,
      "outputs": [
        {
          "output_type": "stream",
          "text": [
            "R$ 11.06\n"
          ],
          "name": "stdout"
        }
      ]
    },
    {
      "cell_type": "code",
      "metadata": {
        "colab": {
          "base_uri": "https://localhost:8080/"
        },
        "id": "xn9MrTLCmLCU",
        "outputId": "fd47b5b5-da2e-4ab0-ff4d-e672b8eecc62"
      },
      "source": [
        "print(\"R$ {:06.2f}\".format(11.06))"
      ],
      "execution_count": null,
      "outputs": [
        {
          "output_type": "stream",
          "text": [
            "R$ 011.06\n"
          ],
          "name": "stdout"
        }
      ]
    },
    {
      "cell_type": "code",
      "metadata": {
        "colab": {
          "base_uri": "https://localhost:8080/"
        },
        "id": "u3emC9-emTDE",
        "outputId": "84819750-18e3-4351-ef52-97fed3a25cf5"
      },
      "source": [
        "print(\"teste de números: {:06d}\".format(11))"
      ],
      "execution_count": null,
      "outputs": [
        {
          "output_type": "stream",
          "text": [
            "teste de números: 000011\n"
          ],
          "name": "stdout"
        }
      ]
    },
    {
      "cell_type": "code",
      "metadata": {
        "colab": {
          "base_uri": "https://localhost:8080/"
        },
        "id": "-SXkIhQMmo16",
        "outputId": "4850c658-d963-4839-92df-bb080f998328"
      },
      "source": [
        "print(\"Teste de data: {:02d}/{:02d}/{:4d}\".format(11,6,1998))"
      ],
      "execution_count": null,
      "outputs": [
        {
          "output_type": "stream",
          "text": [
            "Teste de data: 11/06/1998\n"
          ],
          "name": "stdout"
        }
      ]
    },
    {
      "cell_type": "code",
      "metadata": {
        "colab": {
          "base_uri": "https://localhost:8080/"
        },
        "id": "j-8CSgcsatuE",
        "outputId": "06e04bab-570c-46c1-9a97-905cabeb62e9"
      },
      "source": [
        "#import forca\n",
        "import Jogo_Adivinha\n",
        "\n",
        "print(\"Escolha seu jogo: \",end=\"\\n\\n\\n\")\n",
        "print(\"1 - Forca ou 2 - Adivinhação\", end=\"\\n\\n\")\n",
        "jogo = int(input(\"Qual jogo? \"))\n",
        "if (jogo == 1):\n",
        "  print(\"Jogando Forca\")\n",
        "  #forca.jogar()\n",
        "elif (jogo == 2):\n",
        "      Jogo_Adivinha.jogar()"
      ],
      "execution_count": 2,
      "outputs": [
        {
          "output_type": "stream",
          "text": [
            "Escolha seu jogo: \n",
            "\n",
            "\n",
            "1 - Forca ou 2 - Adivinhação\n",
            "\n",
            "Qual jogo? 2\n",
            "Jogo de adivinhação\n",
            "\n",
            "Tentativa 1 de 2\n",
            "Digite seu número: 1\n",
            "Você errou! O número é maior do que você chutou!\n",
            " \n",
            "Tentativa 2 de 2\n",
            "Digite seu número: 50\n",
            "Você errou! O número é maior do que você chutou!\n",
            " \n",
            "Fim do Jogo! O Número era: 88\n"
          ],
          "name": "stdout"
        }
      ]
    },
    {
      "cell_type": "code",
      "metadata": {
        "id": "DsAryNjD8SVy"
      },
      "source": [
        "def jogar1():\n",
        "  \n",
        "  palavra_secreta = \"vivendo\"\n",
        "  enforcou = False\n",
        "  acertou = False\n",
        "  \n",
        "  #enquanto(True)\n",
        "  while(not enforcou and not acertou):\n",
        "    index = 0\n",
        "    chute = input(\"Qual letra? \")\n",
        "    #permanecer sempre minuscula\n",
        "    chute = chute.lower()\n",
        "    #retirar espaços\n",
        "    chute = chute.strip()\n",
        "    for letra in palavra_secreta:\n",
        "      if (chute == letra):\n",
        "        print(\"Encontrei a letra: {} na posição {}\".format(chute, index))\n",
        "      index = index + 1\n",
        "    print(\"jogando...\", end=\"\\n\\n\")\n",
        "jogar1()"
      ],
      "execution_count": null,
      "outputs": []
    },
    {
      "cell_type": "code",
      "metadata": {
        "id": "HIqCknxiCg64"
      },
      "source": [
        "palavra = \"teste\"\n",
        "\n",
        "palavra.find('l')"
      ],
      "execution_count": null,
      "outputs": []
    },
    {
      "cell_type": "code",
      "metadata": {
        "colab": {
          "base_uri": "https://localhost:8080/",
          "height": 35
        },
        "id": "LMe0OnZ8DhlR",
        "outputId": "d0156918-918d-4e4b-8aa1-8014bf703df2"
      },
      "source": [
        "palavra.capitalize()"
      ],
      "execution_count": 23,
      "outputs": [
        {
          "output_type": "execute_result",
          "data": {
            "application/vnd.google.colaboratory.intrinsic+json": {
              "type": "string"
            },
            "text/plain": [
              "'Teste'"
            ]
          },
          "metadata": {
            "tags": []
          },
          "execution_count": 23
        }
      ]
    },
    {
      "cell_type": "code",
      "metadata": {
        "colab": {
          "base_uri": "https://localhost:8080/"
        },
        "id": "FZgfEg2mElsQ",
        "outputId": "96d86439-ea33-4a47-a041-8582934b9c47"
      },
      "source": [
        "palavra.find('t')"
      ],
      "execution_count": 22,
      "outputs": [
        {
          "output_type": "execute_result",
          "data": {
            "text/plain": [
              "0"
            ]
          },
          "metadata": {
            "tags": []
          },
          "execution_count": 22
        }
      ]
    },
    {
      "cell_type": "code",
      "metadata": {
        "colab": {
          "base_uri": "https://localhost:8080/"
        },
        "id": "KPtH70b9EqSX",
        "outputId": "504191a5-0f90-44f4-bc2c-b6ee97a2dc6c"
      },
      "source": [
        "palavra.endswith(\"te\")"
      ],
      "execution_count": 24,
      "outputs": [
        {
          "output_type": "execute_result",
          "data": {
            "text/plain": [
              "True"
            ]
          },
          "metadata": {
            "tags": []
          },
          "execution_count": 24
        }
      ]
    },
    {
      "cell_type": "code",
      "metadata": {
        "colab": {
          "base_uri": "https://localhost:8080/",
          "height": 35
        },
        "id": "pfBxDtNBE3Xg",
        "outputId": "c02378b7-4431-4eeb-a648-e60c246501d8"
      },
      "source": [
        "testepalavra = palavra.upper()\n",
        "testepalavra"
      ],
      "execution_count": 30,
      "outputs": [
        {
          "output_type": "execute_result",
          "data": {
            "application/vnd.google.colaboratory.intrinsic+json": {
              "type": "string"
            },
            "text/plain": [
              "'TESTE'"
            ]
          },
          "metadata": {
            "tags": []
          },
          "execution_count": 30
        }
      ]
    },
    {
      "cell_type": "code",
      "metadata": {
        "colab": {
          "base_uri": "https://localhost:8080/",
          "height": 35
        },
        "id": "cSVf3vJFE-iY",
        "outputId": "dd0d0a59-a7af-4524-eb8d-11616db2a9ad"
      },
      "source": [
        "testepalavra.lower()"
      ],
      "execution_count": 29,
      "outputs": [
        {
          "output_type": "execute_result",
          "data": {
            "application/vnd.google.colaboratory.intrinsic+json": {
              "type": "string"
            },
            "text/plain": [
              "'teste'"
            ]
          },
          "metadata": {
            "tags": []
          },
          "execution_count": 29
        }
      ]
    },
    {
      "cell_type": "code",
      "metadata": {
        "id": "PXYkeyfWFC6v"
      },
      "source": [
        "def jogar2():\n",
        "  \n",
        "  palavra_secreta = \"banana\"\n",
        "  enforcou = False\n",
        "  acertou = False\n",
        "  \n",
        "  #lista\n",
        "  letras_acertadas = [\"_\",\"_\",\"_\",\"_\",\"_\",\"_\"]\n",
        "  \n",
        "  print(\"Palavra Secreta: {}\".format(letras_acertadas), end=\"\\n\\n\")\n",
        "  while(not enforcou and not acertou):\n",
        "    index = 0\n",
        "    chute = input(\"Qual letra? \")\n",
        "    chute = chute.lower()\n",
        "    chute = chute.strip()\n",
        "\n",
        "    for letra in palavra_secreta:\n",
        "      if (chute == letra):\n",
        "        letras_acertadas[index] = letra\n",
        "        \n",
        "      index = index + 1\n",
        "    print(letras_acertadas)\n",
        "    print(\"jogando...\", end=\"\\n\\n\")\n",
        "jogar2()"
      ],
      "execution_count": null,
      "outputs": []
    },
    {
      "cell_type": "code",
      "metadata": {
        "colab": {
          "base_uri": "https://localhost:8080/"
        },
        "id": "9pifbk72L3Qg",
        "outputId": "93bf6c0c-03e5-44e5-9965-533553c8d321"
      },
      "source": [
        "dias = ['seg','ter','qua','qui','sex','sab','dom']\n",
        "dias"
      ],
      "execution_count": 56,
      "outputs": [
        {
          "output_type": "execute_result",
          "data": {
            "text/plain": [
              "['seg', 'ter', 'qua', 'qui', 'sex', 'sab', 'dom']"
            ]
          },
          "metadata": {
            "tags": []
          },
          "execution_count": 56
        }
      ]
    },
    {
      "cell_type": "code",
      "metadata": {
        "id": "zGTxjX8KOWU0"
      },
      "source": [
        "dias.append('tex')"
      ],
      "execution_count": 52,
      "outputs": []
    },
    {
      "cell_type": "code",
      "metadata": {
        "colab": {
          "base_uri": "https://localhost:8080/"
        },
        "id": "I16N0OS0OZgm",
        "outputId": "c1cf80e5-8e26-497b-e8e2-38f7d159a1f4"
      },
      "source": [
        "dias"
      ],
      "execution_count": 53,
      "outputs": [
        {
          "output_type": "execute_result",
          "data": {
            "text/plain": [
              "['seg', 'ter', 'qua', 'qui', 'sex', 'sab', 'dom', 'tex']"
            ]
          },
          "metadata": {
            "tags": []
          },
          "execution_count": 53
        }
      ]
    },
    {
      "cell_type": "code",
      "metadata": {
        "colab": {
          "base_uri": "https://localhost:8080/",
          "height": 35
        },
        "id": "6FqIqoGkOaLu",
        "outputId": "ed4b8adb-a863-4f33-efc8-9e365563df6f"
      },
      "source": [
        "dias.pop()"
      ],
      "execution_count": 54,
      "outputs": [
        {
          "output_type": "execute_result",
          "data": {
            "application/vnd.google.colaboratory.intrinsic+json": {
              "type": "string"
            },
            "text/plain": [
              "'tex'"
            ]
          },
          "metadata": {
            "tags": []
          },
          "execution_count": 54
        }
      ]
    },
    {
      "cell_type": "code",
      "metadata": {
        "colab": {
          "base_uri": "https://localhost:8080/"
        },
        "id": "xlyuaXjEOhwm",
        "outputId": "386bb586-eb46-4d0b-aaae-1035962523fe"
      },
      "source": [
        "dias"
      ],
      "execution_count": 55,
      "outputs": [
        {
          "output_type": "execute_result",
          "data": {
            "text/plain": [
              "['seg', 'ter', 'qua', 'qui', 'sex', 'sab', 'dom']"
            ]
          },
          "metadata": {
            "tags": []
          },
          "execution_count": 55
        }
      ]
    },
    {
      "cell_type": "code",
      "metadata": {
        "colab": {
          "base_uri": "https://localhost:8080/"
        },
        "id": "QsMdqlQwOi9F",
        "outputId": "3570ff39-f312-4200-be13-9dd321661e20"
      },
      "source": [
        "#tuple é usado em parenteses, enquanto lista é por colchetes ([])\n",
        "\n",
        "dias_semana = ('seg', 'ter', 'qua', 'qui', 'sex', 'sab', 'dom')\n",
        "type(dias_semana)"
      ],
      "execution_count": 58,
      "outputs": [
        {
          "output_type": "execute_result",
          "data": {
            "text/plain": [
              "tuple"
            ]
          },
          "metadata": {
            "tags": []
          },
          "execution_count": 58
        }
      ]
    },
    {
      "cell_type": "code",
      "metadata": {
        "colab": {
          "base_uri": "https://localhost:8080/"
        },
        "id": "69FazMvMO0ZV",
        "outputId": "196f7529-cd4f-4e39-aaf3-7ad4c8a789be"
      },
      "source": [
        "dias_semana"
      ],
      "execution_count": 59,
      "outputs": [
        {
          "output_type": "execute_result",
          "data": {
            "text/plain": [
              "('seg', 'ter', 'qua', 'qui', 'sex', 'sab', 'dom')"
            ]
          },
          "metadata": {
            "tags": []
          },
          "execution_count": 59
        }
      ]
    },
    {
      "cell_type": "code",
      "metadata": {
        "colab": {
          "base_uri": "https://localhost:8080/"
        },
        "id": "g7VhuoBWO5Dm",
        "outputId": "f0996809-87dd-4449-83c1-79a9d2dfacc9"
      },
      "source": [
        "p1=(1,1)\n",
        "p2=(2,2)\n",
        "p=(p1,p2)\n",
        "p"
      ],
      "execution_count": 60,
      "outputs": [
        {
          "output_type": "execute_result",
          "data": {
            "text/plain": [
              "((1, 1), (2, 2))"
            ]
          },
          "metadata": {
            "tags": []
          },
          "execution_count": 60
        }
      ]
    },
    {
      "cell_type": "code",
      "metadata": {
        "colab": {
          "base_uri": "https://localhost:8080/"
        },
        "id": "xdUizYmYPoQe",
        "outputId": "5b6e38dd-8490-44b0-f2d9-9d5fcc580dc3"
      },
      "source": [
        "pn1 = (\"Ana\",23)\n",
        "pn2 = (\"Ironides\",26)\n",
        "png = (pn1,pn2)\n",
        "png"
      ],
      "execution_count": 62,
      "outputs": [
        {
          "output_type": "execute_result",
          "data": {
            "text/plain": [
              "(('Ana', 23), ('Ironides', 26))"
            ]
          },
          "metadata": {
            "tags": []
          },
          "execution_count": 62
        }
      ]
    },
    {
      "cell_type": "code",
      "metadata": {
        "colab": {
          "base_uri": "https://localhost:8080/"
        },
        "id": "uJ6eM80APzst",
        "outputId": "e967a1b4-c444-4d69-9f1e-599760c02a8c"
      },
      "source": [
        "png_list = [pn1,pn2]\n",
        "png_list"
      ],
      "execution_count": 63,
      "outputs": [
        {
          "output_type": "execute_result",
          "data": {
            "text/plain": [
              "[('Ana', 23), ('Ironides', 26)]"
            ]
          },
          "metadata": {
            "tags": []
          },
          "execution_count": 63
        }
      ]
    },
    {
      "cell_type": "code",
      "metadata": {
        "colab": {
          "base_uri": "https://localhost:8080/"
        },
        "id": "HLuJPqxGQBkW",
        "outputId": "977f3c6a-02c1-4d80-d34c-3499c5e4388a"
      },
      "source": [
        "png_list[0]"
      ],
      "execution_count": 64,
      "outputs": [
        {
          "output_type": "execute_result",
          "data": {
            "text/plain": [
              "('Ana', 23)"
            ]
          },
          "metadata": {
            "tags": []
          },
          "execution_count": 64
        }
      ]
    },
    {
      "cell_type": "code",
      "metadata": {
        "colab": {
          "base_uri": "https://localhost:8080/"
        },
        "id": "B8jb_loQQE2u",
        "outputId": "19a4cdea-e4c1-4e35-cd72-f78784568260"
      },
      "source": [
        "png_list[0][1]"
      ],
      "execution_count": 66,
      "outputs": [
        {
          "output_type": "execute_result",
          "data": {
            "text/plain": [
              "23"
            ]
          },
          "metadata": {
            "tags": []
          },
          "execution_count": 66
        }
      ]
    },
    {
      "cell_type": "code",
      "metadata": {
        "colab": {
          "base_uri": "https://localhost:8080/",
          "height": 35
        },
        "id": "qGe7UCDHQG-F",
        "outputId": "280765a2-6a50-4359-9db5-32d9023bcfde"
      },
      "source": [
        "png_list[0][0]"
      ],
      "execution_count": 67,
      "outputs": [
        {
          "output_type": "execute_result",
          "data": {
            "application/vnd.google.colaboratory.intrinsic+json": {
              "type": "string"
            },
            "text/plain": [
              "'Ana'"
            ]
          },
          "metadata": {
            "tags": []
          },
          "execution_count": 67
        }
      ]
    },
    {
      "cell_type": "code",
      "metadata": {
        "colab": {
          "base_uri": "https://localhost:8080/"
        },
        "id": "9bldyOUgQSe8",
        "outputId": "f5557534-6f1a-4c90-e7b3-5afb7cdfcacd"
      },
      "source": [
        "transformando_lista_em_tuple = tuple(png_list)\n",
        "transformando_lista_em_tuple"
      ],
      "execution_count": 68,
      "outputs": [
        {
          "output_type": "execute_result",
          "data": {
            "text/plain": [
              "(('Ana', 23), ('Ironides', 26))"
            ]
          },
          "metadata": {
            "tags": []
          },
          "execution_count": 68
        }
      ]
    },
    {
      "cell_type": "code",
      "metadata": {
        "colab": {
          "base_uri": "https://localhost:8080/"
        },
        "id": "vKFlUK80QdFG",
        "outputId": "e0b1f412-28da-4614-8ba1-f912b280622f"
      },
      "source": [
        "transformando_tuple_em_lista = list(png)\n",
        "transformando_tuple_em_lista"
      ],
      "execution_count": 70,
      "outputs": [
        {
          "output_type": "execute_result",
          "data": {
            "text/plain": [
              "[('Ana', 23), ('Ironides', 26)]"
            ]
          },
          "metadata": {
            "tags": []
          },
          "execution_count": 70
        }
      ]
    },
    {
      "cell_type": "code",
      "metadata": {
        "id": "xK9ibr5QQjod"
      },
      "source": [
        "def jogar3():\n",
        "  \n",
        "  palavra_secreta = \"banana\"\n",
        "  enforcou = False\n",
        "  acertou = False\n",
        "  \n",
        "  erros = 0\n",
        "\n",
        "  #lista\n",
        "  letras_acertadas = [\"_\",\"_\",\"_\",\"_\",\"_\",\"_\"]\n",
        "  \n",
        "  print(\"Palavra Secreta: {}\".format(letras_acertadas), end=\"\\n\\n\")\n",
        "  while(not enforcou and not acertou):\n",
        "    chute = input(\"Qual letra? \")\n",
        "    chute = chute.lower()\n",
        "    chute = chute.strip()\n",
        "\n",
        "    if (chute in palavra_secreta):\n",
        "      index = 0\n",
        "      for letra in palavra_secreta:\n",
        "        if (chute == letra):\n",
        "            letras_acertadas[index] = letra\n",
        "        index += 1\n",
        "    else:\n",
        "        erros += 1\n",
        "\n",
        "    enforcou = erros == 6\n",
        "    acertou = \"_\" not in letras_acertadas\n",
        "    print(letras_acertadas)\n",
        "    print(\"jogando...\", end=\"\\n\\n\")\n",
        "  print(\"Jogo Finalizado!\")\n",
        "jogar3()"
      ],
      "execution_count": null,
      "outputs": []
    },
    {
      "cell_type": "code",
      "metadata": {
        "id": "2Xjj4VRNY9yK"
      },
      "source": [
        "def jogar4():\n",
        "  \n",
        "  palavra_secreta = \"banana\"\n",
        "  enforcou = False\n",
        "  acertou = False\n",
        "  \n",
        "  erros = 0\n",
        "\n",
        "  #lista\n",
        "  letras_acertadas = []\n",
        "  for letra in palavra_secreta:\n",
        "    letras_acertadas.append(\"_\")\n",
        "  \n",
        "  print(\"Palavra Secreta: {}\".format(letras_acertadas), end=\"\\n\\n\")\n",
        "  while (not enforcou and not acertou):\n",
        "    chute = input(\"Qual letra? \")\n",
        "    chute = chute.lower()\n",
        "    chute = chute.strip()\n",
        "\n",
        "    if (chute in palavra_secreta):\n",
        "      index = 0\n",
        "      for letra in palavra_secreta:\n",
        "        if (chute == letra):\n",
        "            letras_acertadas[index] = letra\n",
        "        index += 1\n",
        "    else:\n",
        "        erros += 1\n",
        "\n",
        "    enforcou = erros == 6\n",
        "    acertou = \"_\" not in letras_acertadas\n",
        "    print(letras_acertadas)\n",
        "    print(\"jogando...\", end=\"\\n\\n\")\n",
        "\n",
        "  if (acertou):\n",
        "    print(\"Você ganhou!\")\n",
        "  else:\n",
        "    print(\"Você perdeu!\")\n",
        "jogar4()"
      ],
      "execution_count": null,
      "outputs": []
    },
    {
      "cell_type": "code",
      "metadata": {
        "id": "3RcKIg-hajtQ"
      },
      "source": [
        "def jogar5():\n",
        "  \n",
        "  palavra_secreta = \"banana\"\n",
        "  enforcou = False\n",
        "  acertou = False\n",
        "  \n",
        "  erros = 0\n",
        "\n",
        "  #determinando diretamente na lista\n",
        "  letras_acertadas = [\"_\" for letra in palavra_secreta]\n",
        "  \n",
        "  print(\"Palavra Secreta: {}\".format(letras_acertadas), end=\"\\n\\n\")\n",
        "  while (not enforcou and not acertou):\n",
        "    chute = input(\"Qual letra? \")\n",
        "    chute = chute.lower()\n",
        "    chute = chute.strip()\n",
        "\n",
        "    if (chute in palavra_secreta):\n",
        "      index = 0\n",
        "      for letra in palavra_secreta:\n",
        "        if (chute == letra):\n",
        "            letras_acertadas[index] = letra\n",
        "        index += 1\n",
        "    else:\n",
        "        erros += 1\n",
        "\n",
        "    enforcou = erros == 6\n",
        "    acertou = \"_\" not in letras_acertadas\n",
        "    print(letras_acertadas)\n",
        "    print(\"jogando...\", end=\"\\n\\n\")\n",
        "\n",
        "  if (acertou):\n",
        "    print(\"Você ganhou!\")\n",
        "  else:\n",
        "    print(\"Você perdeu!\")\n",
        "jogar5()"
      ],
      "execution_count": null,
      "outputs": []
    },
    {
      "cell_type": "code",
      "metadata": {
        "colab": {
          "base_uri": "https://localhost:8080/"
        },
        "id": "WVchiF_ocO5v",
        "outputId": "4c6eed17-6b67-4737-8d71-9f55eb31b296"
      },
      "source": [
        "#@title Trabalhando com arquivos\n",
        "\n",
        "#escrever e sobrescrever um arquivo txt\n",
        "arquivo = open(\"palavras.txt\",\"w\")\n",
        "arquivo.write(\"banana\\n\")"
      ],
      "execution_count": 142,
      "outputs": [
        {
          "output_type": "execute_result",
          "data": {
            "text/plain": [
              "7"
            ]
          },
          "metadata": {
            "tags": []
          },
          "execution_count": 142
        }
      ]
    },
    {
      "cell_type": "code",
      "metadata": {
        "colab": {
          "base_uri": "https://localhost:8080/"
        },
        "id": "Zq8zvCISdwHv",
        "outputId": "0a3975bc-eea3-4f7d-a3e8-3b69348b9339"
      },
      "source": [
        "arquivo = open(\"palavras.txt\",\"a\")\n",
        "\n",
        "arquivo.write(\"melancia\\n\")"
      ],
      "execution_count": 143,
      "outputs": [
        {
          "output_type": "execute_result",
          "data": {
            "text/plain": [
              "9"
            ]
          },
          "metadata": {
            "tags": []
          },
          "execution_count": 143
        }
      ]
    },
    {
      "cell_type": "code",
      "metadata": {
        "colab": {
          "base_uri": "https://localhost:8080/"
        },
        "id": "fZVn5FvTeHJQ",
        "outputId": "2d82d10f-ddd2-408d-a8cf-f11ada0c8ada"
      },
      "source": [
        "#adicionar conteudo\n",
        "\n",
        "arquivo = open(\"palavras.txt\",\"a\")\n",
        "\n",
        "arquivo.write(\"morango\\n\")"
      ],
      "execution_count": 144,
      "outputs": [
        {
          "output_type": "execute_result",
          "data": {
            "text/plain": [
              "8"
            ]
          },
          "metadata": {
            "tags": []
          },
          "execution_count": 144
        }
      ]
    },
    {
      "cell_type": "code",
      "metadata": {
        "colab": {
          "base_uri": "https://localhost:8080/"
        },
        "id": "YPLw_0SxeTPQ",
        "outputId": "b0b54859-9dd0-4732-8037-97497b57a2d6"
      },
      "source": [
        "arquivo = open(\"palavras.txt\",\"a\")\n",
        "arquivo.write(\"maçã\")"
      ],
      "execution_count": 147,
      "outputs": [
        {
          "output_type": "execute_result",
          "data": {
            "text/plain": [
              "4"
            ]
          },
          "metadata": {
            "tags": []
          },
          "execution_count": 147
        }
      ]
    },
    {
      "cell_type": "code",
      "metadata": {
        "colab": {
          "base_uri": "https://localhost:8080/"
        },
        "id": "EJtfwB2Eelrv",
        "outputId": "5de26127-0661-4126-9982-d1c5fe649ca7"
      },
      "source": [
        "cat palavras.txt"
      ],
      "execution_count": 148,
      "outputs": [
        {
          "output_type": "stream",
          "text": [
            "banana\n",
            "melancia\n",
            "morango\n",
            "maçã\n"
          ],
          "name": "stdout"
        }
      ]
    },
    {
      "cell_type": "code",
      "metadata": {
        "id": "TavsrC0UenB_"
      },
      "source": [
        "#fechar o arquivo (boa prática)\n",
        "arquivo.close()"
      ],
      "execution_count": 149,
      "outputs": []
    },
    {
      "cell_type": "code",
      "metadata": {
        "colab": {
          "base_uri": "https://localhost:8080/"
        },
        "id": "NjFbyP-ufQJn",
        "outputId": "ec31dd4b-5ecf-4b2a-94ce-42b0e39c582f"
      },
      "source": [
        "ls"
      ],
      "execution_count": 150,
      "outputs": [
        {
          "output_type": "stream",
          "text": [
            "\u001b[0m\u001b[01;34mdrive\u001b[0m/            Jogo_Forca.py  \u001b[01;34m__pycache__\u001b[0m/\n",
            "Jogo_Adivinha.py  palavras.txt   \u001b[01;34msample_data\u001b[0m/\n"
          ],
          "name": "stdout"
        }
      ]
    },
    {
      "cell_type": "code",
      "metadata": {
        "id": "xcgaQ_1Zfl4X"
      },
      "source": [
        "#para ler o arquivo:\n",
        "\n",
        "arquivo = open(\"palavras.txt\", \"r\")"
      ],
      "execution_count": 151,
      "outputs": []
    },
    {
      "cell_type": "code",
      "metadata": {
        "colab": {
          "base_uri": "https://localhost:8080/",
          "height": 35
        },
        "id": "lYIAPXiXfw8v",
        "outputId": "5a216bd3-020b-4925-d897-d62b53264aa8"
      },
      "source": [
        "arquivo.read()"
      ],
      "execution_count": 152,
      "outputs": [
        {
          "output_type": "execute_result",
          "data": {
            "application/vnd.google.colaboratory.intrinsic+json": {
              "type": "string"
            },
            "text/plain": [
              "'banana\\nmelancia\\nmorango\\nmaçã\\nmaçã'"
            ]
          },
          "metadata": {
            "tags": []
          },
          "execution_count": 152
        }
      ]
    },
    {
      "cell_type": "code",
      "metadata": {
        "colab": {
          "base_uri": "https://localhost:8080/"
        },
        "id": "HHEfWP-kf4W3",
        "outputId": "36d467eb-bab4-44ce-fb9e-bb51e22bf11c"
      },
      "source": [
        "#para olhar linha a linha:\n",
        "\n",
        "arquivo = open(\"palavras.txt\", \"r\")\n",
        "for linha in arquivo:\n",
        "  print(linha)"
      ],
      "execution_count": 153,
      "outputs": [
        {
          "output_type": "stream",
          "text": [
            "banana\n",
            "\n",
            "melancia\n",
            "\n",
            "morango\n",
            "\n",
            "maçã\n",
            "\n",
            "maçã\n"
          ],
          "name": "stdout"
        }
      ]
    },
    {
      "cell_type": "code",
      "metadata": {
        "id": "LzGu6QLVgJU_"
      },
      "source": [
        "arquivo.close()"
      ],
      "execution_count": 135,
      "outputs": []
    },
    {
      "cell_type": "code",
      "metadata": {
        "colab": {
          "base_uri": "https://localhost:8080/"
        },
        "id": "RBalGSRRgQUH",
        "outputId": "177aa6f7-7c2d-4256-f6d1-2dc0360079a8"
      },
      "source": [
        "arquivo = open(\"palavras.txt\", \"r\")\n",
        "linha = arquivo.readline()\n",
        "type(linha)"
      ],
      "execution_count": 154,
      "outputs": [
        {
          "output_type": "execute_result",
          "data": {
            "text/plain": [
              "str"
            ]
          },
          "metadata": {
            "tags": []
          },
          "execution_count": 154
        }
      ]
    },
    {
      "cell_type": "code",
      "metadata": {
        "colab": {
          "base_uri": "https://localhost:8080/",
          "height": 35
        },
        "id": "OxK-btm_gsCX",
        "outputId": "e5dc1b35-3a6e-4397-bdc3-59c23a3e1dff"
      },
      "source": [
        "linha"
      ],
      "execution_count": 155,
      "outputs": [
        {
          "output_type": "execute_result",
          "data": {
            "application/vnd.google.colaboratory.intrinsic+json": {
              "type": "string"
            },
            "text/plain": [
              "'banana\\n'"
            ]
          },
          "metadata": {
            "tags": []
          },
          "execution_count": 155
        }
      ]
    },
    {
      "cell_type": "code",
      "metadata": {
        "colab": {
          "base_uri": "https://localhost:8080/",
          "height": 35
        },
        "id": "2xMmjXk1gxE_",
        "outputId": "1582e0ab-c73b-425b-cf72-e81effda46b3"
      },
      "source": [
        "#remove o \\n\n",
        "\n",
        "linha.strip()"
      ],
      "execution_count": 156,
      "outputs": [
        {
          "output_type": "execute_result",
          "data": {
            "application/vnd.google.colaboratory.intrinsic+json": {
              "type": "string"
            },
            "text/plain": [
              "'banana'"
            ]
          },
          "metadata": {
            "tags": []
          },
          "execution_count": 156
        }
      ]
    },
    {
      "cell_type": "code",
      "metadata": {
        "id": "FZF3myq7g2_D"
      },
      "source": [
        "import random\n",
        "def jogar6():\n",
        "  \n",
        "  arquivo = open(\"palavras.txt\",\"r\")\n",
        "  palavras = []\n",
        "\n",
        "  for linha in arquivo:\n",
        "    linha = linha.strip()\n",
        "    palavras.append(linha)\n",
        "\n",
        "  arquivo.close()\n",
        "  #escolher aleatório uma palavra de um arquivo\n",
        "  numero = random.randrange(0,len(palavras))\n",
        "  palavra_secreta = palavras[numero]\n",
        "  \n",
        "  enforcou = False\n",
        "  acertou = False\n",
        "  \n",
        "  erros = 0\n",
        "\n",
        "  #determinando diretamente na lista\n",
        "  letras_acertadas = [\"_\" for letra in palavra_secreta]\n",
        "  \n",
        "  print(\"Palavra Secreta: {}\".format(letras_acertadas), end=\"\\n\\n\")\n",
        "  while (not enforcou and not acertou):\n",
        "    chute = input(\"Qual letra? \")\n",
        "    chute = chute.lower()\n",
        "    chute = chute.strip()\n",
        "\n",
        "    if (chute in palavra_secreta):\n",
        "      index = 0\n",
        "      for letra in palavra_secreta:\n",
        "        if (chute == letra):\n",
        "            letras_acertadas[index] = letra\n",
        "        index += 1\n",
        "    else:\n",
        "        erros += 1\n",
        "\n",
        "    enforcou = erros == 6\n",
        "    acertou = \"_\" not in letras_acertadas\n",
        "    print(letras_acertadas)\n",
        "    print(\"jogando...\", end=\"\\n\\n\")\n",
        "\n",
        "  if (acertou):\n",
        "    print(\"Você ganhou!\")\n",
        "  else:\n",
        "    print(\"Você perdeu!\")\n",
        "jogar6()"
      ],
      "execution_count": null,
      "outputs": []
    },
    {
      "cell_type": "code",
      "metadata": {
        "id": "lrsZ9GzviCe-"
      },
      "source": [
        "#organizando em funções o código do Jogo Forca\n",
        "\n",
        "import random\n",
        "\n",
        "def jogar():\n",
        "  palavra_secreta = escolhe_palavra_secreta()\n",
        "  letras_acertadas = inicializa_letras_acertadas(palavra_secreta)\n",
        "  \n",
        "  print(\"Palavra Secreta: {}\".format(letras_acertadas), end=\"\\n\\n\")\n",
        "  \n",
        "  enforcou = False\n",
        "  acertou = False\n",
        "  erros = 0\n",
        " \n",
        "  while (not enforcou and not acertou):\n",
        "    chute = input(\"Qual letra? \")\n",
        "    chute = chute.lower()\n",
        "    chute = chute.strip()\n",
        "\n",
        "    if (chute in palavra_secreta):\n",
        "      marca_chute_correto(chute, palavra_secreta, letras_acertadas)\n",
        "    else:\n",
        "        erros += 1\n",
        "\n",
        "    enforcou = erros == 6\n",
        "    acertou = \"_\" not in letras_acertadas\n",
        "    print(letras_acertadas)\n",
        "    print(\"jogando...\", end=\"\\n\\n\")\n",
        "\n",
        "  if (acertou):\n",
        "    print(\"Você ganhou!\")\n",
        "  else:\n",
        "    print(\"Você perdeu!\")\n",
        "\n",
        "\n",
        "def escolhe_palavra_secreta():\n",
        "  arquivo = open(\"palavras.txt\",\"r\")\n",
        "  palavras = []\n",
        "\n",
        "  for linha in arquivo:\n",
        "    linha = linha.strip()\n",
        "    palavras.append(linha)\n",
        "\n",
        "  arquivo.close()\n",
        "\n",
        "  #escolher aleatório uma palavra de um arquivo\n",
        "  numero = random.randrange(0,len(palavras))\n",
        "  palavra_secreta = palavras[numero]\n",
        "\n",
        "  return palavra_secreta\n",
        "\n",
        "def inicializa_letras_acertadas(palavra_secreta):\n",
        "  palavra_secreta = escolhe_palavra_secreta()\n",
        "  return [\"_\" for letra in palavra_secreta]\n",
        "\n",
        "\n",
        "def marca_chute_correto(chute, palavra_secreta, letras_acertadas):\n",
        "  index = 0\n",
        "  for letra in palavra_secreta:\n",
        "    if (chute == letra):\n",
        "      letras_acertadas[index] = letra\n",
        "    index += 1\n",
        "\n",
        "if (__name__ == \"__main__\"):\n",
        "  jogar()"
      ],
      "execution_count": null,
      "outputs": []
    },
    {
      "cell_type": "code",
      "metadata": {
        "id": "uvRUT-xeljrC"
      },
      "source": [
        ""
      ],
      "execution_count": null,
      "outputs": []
    }
  ]
}