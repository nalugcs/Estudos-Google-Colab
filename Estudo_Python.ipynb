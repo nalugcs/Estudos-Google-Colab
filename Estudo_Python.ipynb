{
  "nbformat": 4,
  "nbformat_minor": 0,
  "metadata": {
    "colab": {
      "name": "Estudo Python.ipynb",
      "provenance": [],
      "collapsed_sections": [],
      "mount_file_id": "1njOgxzYSigJCqllKaB4CZq8Yklr5_HlP",
      "authorship_tag": "ABX9TyNrnQ7Kno/JTk/0gzCEcRXK",
      "include_colab_link": true
    },
    "kernelspec": {
      "name": "python3",
      "display_name": "Python 3"
    },
    "language_info": {
      "name": "python"
    }
  },
  "cells": [
    {
      "cell_type": "markdown",
      "metadata": {
        "id": "view-in-github",
        "colab_type": "text"
      },
      "source": [
        "<a href=\"https://colab.research.google.com/github/nalugcs/Estudos-Google-Colab/blob/Estudos/Estudo_Python.ipynb\" target=\"_parent\"><img src=\"https://colab.research.google.com/assets/colab-badge.svg\" alt=\"Open In Colab\"/></a>"
      ]
    },
    {
      "cell_type": "markdown",
      "metadata": {
        "id": "D5g-T6QzWZq6"
      },
      "source": [
        "#**Estudo de Python**"
      ]
    },
    {
      "cell_type": "markdown",
      "metadata": {
        "id": "U8npkLpTXm9x"
      },
      "source": [
        "Parte Inicial"
      ]
    },
    {
      "cell_type": "code",
      "metadata": {
        "id": "kFBqM_ryfSg7"
      },
      "source": [
        "from google.colab import drive\n",
        "drive.mount('/content/drive')"
      ],
      "execution_count": null,
      "outputs": []
    },
    {
      "cell_type": "code",
      "metadata": {
        "colab": {
          "base_uri": "https://localhost:8080/"
        },
        "id": "ezzMJQx7WvDG",
        "outputId": "768eea01-27fa-474f-e149-37f2025449ce"
      },
      "source": [
        "print('Estudo Python')"
      ],
      "execution_count": 1,
      "outputs": [
        {
          "output_type": "stream",
          "text": [
            "Estudo Python\n"
          ],
          "name": "stdout"
        }
      ]
    },
    {
      "cell_type": "code",
      "metadata": {
        "colab": {
          "base_uri": "https://localhost:8080/",
          "height": 35
        },
        "id": "ROPpCXGQXCh3",
        "outputId": "c25454d6-9fe4-4e8b-8ea9-f607261949aa"
      },
      "source": [
        "texto = 'Texto'\n",
        "texto"
      ],
      "execution_count": 2,
      "outputs": [
        {
          "output_type": "execute_result",
          "data": {
            "application/vnd.google.colaboratory.intrinsic+json": {
              "type": "string"
            },
            "text/plain": [
              "'Texto'"
            ]
          },
          "metadata": {
            "tags": []
          },
          "execution_count": 2
        }
      ]
    },
    {
      "cell_type": "code",
      "metadata": {
        "colab": {
          "base_uri": "https://localhost:8080/"
        },
        "id": "QG_Uu6rhXTg3",
        "outputId": "798b49bb-653d-438a-d955-4d1648cec0a5"
      },
      "source": [
        "type(texto)"
      ],
      "execution_count": 3,
      "outputs": [
        {
          "output_type": "execute_result",
          "data": {
            "text/plain": [
              "str"
            ]
          },
          "metadata": {
            "tags": []
          },
          "execution_count": 3
        }
      ]
    },
    {
      "cell_type": "code",
      "metadata": {
        "colab": {
          "base_uri": "https://localhost:8080/"
        },
        "id": "pEekmeoLXVo_",
        "outputId": "dd48b82b-c6d8-4cd3-80f0-c90690448199"
      },
      "source": [
        "numero = 4\n",
        "numero"
      ],
      "execution_count": 4,
      "outputs": [
        {
          "output_type": "execute_result",
          "data": {
            "text/plain": [
              "4"
            ]
          },
          "metadata": {
            "tags": []
          },
          "execution_count": 4
        }
      ]
    },
    {
      "cell_type": "code",
      "metadata": {
        "colab": {
          "base_uri": "https://localhost:8080/"
        },
        "id": "Nb4AFHbvXbqv",
        "outputId": "a5619cc7-5f2b-41b3-a05b-ee6f04b4f003"
      },
      "source": [
        "type(numero)"
      ],
      "execution_count": 5,
      "outputs": [
        {
          "output_type": "execute_result",
          "data": {
            "text/plain": [
              "int"
            ]
          },
          "metadata": {
            "tags": []
          },
          "execution_count": 5
        }
      ]
    },
    {
      "cell_type": "code",
      "metadata": {
        "colab": {
          "base_uri": "https://localhost:8080/"
        },
        "id": "r91kcqYtXcqO",
        "outputId": "019f15c0-24b4-41b0-9fe0-a60669499e15"
      },
      "source": [
        "print(texto, numero)"
      ],
      "execution_count": 6,
      "outputs": [
        {
          "output_type": "stream",
          "text": [
            "Texto 4\n"
          ],
          "name": "stdout"
        }
      ]
    },
    {
      "cell_type": "code",
      "metadata": {
        "colab": {
          "base_uri": "https://localhost:8080/"
        },
        "id": "TgsPRh3bXfwn",
        "outputId": "9c46b588-574b-40a3-ce85-6ebb2180a297"
      },
      "source": [
        "dia = 11\n",
        "mes = 6\n",
        "ano = 1998\n",
        "print(dia,mes,ano, sep='/')"
      ],
      "execution_count": 7,
      "outputs": [
        {
          "output_type": "stream",
          "text": [
            "11/6/1998\n"
          ],
          "name": "stdout"
        }
      ]
    },
    {
      "cell_type": "code",
      "metadata": {
        "colab": {
          "base_uri": "https://localhost:8080/"
        },
        "id": "Gm4fpemTX7In",
        "outputId": "17c18e06-f534-4986-a2a5-8af87968ce03"
      },
      "source": [
        "%ls"
      ],
      "execution_count": 8,
      "outputs": [
        {
          "output_type": "stream",
          "text": [
            "\u001b[0m\u001b[01;34msample_data\u001b[0m/\n"
          ],
          "name": "stdout"
        }
      ]
    },
    {
      "cell_type": "code",
      "metadata": {
        "colab": {
          "base_uri": "https://localhost:8080/"
        },
        "id": "wotdat86aF5L",
        "outputId": "f7fe3d64-3a05-4d28-ce0b-ac29671b28e9"
      },
      "source": [
        "#Teste Jogo Adivinhação:\n",
        "print(\"Jogo de adivinhação\", end= '\\n\\n')\n",
        "\n",
        "nro_secreto = 11\n",
        "total_tentativas = 3\n",
        "rodada = 1\n",
        "\n",
        "\n",
        "while(total_tentativas >= rodada):\n",
        "  print(\"Tentativa {} de {}\".format(rodada, total_tentativas), end=\"\\n\")\n",
        "  chute = input(\"Digite seu número positivo: \")\n",
        "  chute_numero = int(chute)\n",
        "\n",
        "  if (chute_numero < 0):\n",
        "    print(\"Número inserido errado!\", end=\"\\n \\n\")\n",
        "    continue\n",
        "  else:\n",
        "      maior = chute_numero > nro_secreto\n",
        "      menor = chute_numero < nro_secreto\n",
        "\n",
        "      if (nro_secreto == chute_numero):\n",
        "        print(\"Você acertou!\")\n",
        "        break\n",
        "      else:\n",
        "        if (maior):\n",
        "          print(\"Você errou! O número é menor do que você chutou!\", end=\"\\n \\n\")\n",
        "        elif (menor):\n",
        "            print(\"Você errou! O número é maior do que você chutou!\", end = \"\\n \\n\")\n",
        "\n",
        "      rodada = rodada + 1"
      ],
      "execution_count": 21,
      "outputs": [
        {
          "output_type": "stream",
          "text": [
            "Jogo de adivinhação\n",
            "\n",
            "Tentativa 1 de 3\n",
            "Digite seu número positivo: 12\n",
            "Você errou! O número é menor do que você chutou!\n",
            " \n",
            "Tentativa 2 de 3\n",
            "Digite seu número positivo: 12\n",
            "Você errou! O número é menor do que você chutou!\n",
            " \n",
            "Tentativa 3 de 3\n",
            "Digite seu número positivo: 11\n",
            "Você acertou!\n"
          ],
          "name": "stdout"
        }
      ]
    },
    {
      "cell_type": "code",
      "metadata": {
        "colab": {
          "base_uri": "https://localhost:8080/"
        },
        "id": "dEeIrCnHae_W",
        "outputId": "a7f07a6d-1d82-48bc-cafc-4852928b3dab"
      },
      "source": [
        "print(\"R$ {:.2f}\".format(11.06))"
      ],
      "execution_count": 10,
      "outputs": [
        {
          "output_type": "stream",
          "text": [
            "R$ 11.06\n"
          ],
          "name": "stdout"
        }
      ]
    },
    {
      "cell_type": "code",
      "metadata": {
        "colab": {
          "base_uri": "https://localhost:8080/"
        },
        "id": "xn9MrTLCmLCU",
        "outputId": "f041a0ee-2420-4f41-fea7-921cc4afed14"
      },
      "source": [
        "print(\"R$ {:06.2f}\".format(11.06))"
      ],
      "execution_count": 11,
      "outputs": [
        {
          "output_type": "stream",
          "text": [
            "R$ 011.06\n"
          ],
          "name": "stdout"
        }
      ]
    },
    {
      "cell_type": "code",
      "metadata": {
        "colab": {
          "base_uri": "https://localhost:8080/"
        },
        "id": "u3emC9-emTDE",
        "outputId": "93fa4e96-7fc7-4222-80ec-c098131218aa"
      },
      "source": [
        "print(\"teste de números: {:06d}\".format(11))"
      ],
      "execution_count": 12,
      "outputs": [
        {
          "output_type": "stream",
          "text": [
            "teste de números: 000011\n"
          ],
          "name": "stdout"
        }
      ]
    },
    {
      "cell_type": "code",
      "metadata": {
        "colab": {
          "base_uri": "https://localhost:8080/"
        },
        "id": "-SXkIhQMmo16",
        "outputId": "eb7829c1-ecab-41f4-8069-410dbf0431a6"
      },
      "source": [
        "print(\"Teste de data: {:02d}/{:02d}/{:4d}\".format(11,6,1998))"
      ],
      "execution_count": 13,
      "outputs": [
        {
          "output_type": "stream",
          "text": [
            "Teste de data: 11/06/1998\n"
          ],
          "name": "stdout"
        }
      ]
    },
    {
      "cell_type": "code",
      "metadata": {
        "colab": {
          "base_uri": "https://localhost:8080/"
        },
        "id": "j-8CSgcsatuE",
        "outputId": "fedc9eb8-de6c-409a-b7df-8402e4300726"
      },
      "source": [
        "#import forca\n",
        "import adivinhacao\n",
        "\n",
        "print(\"Escolha seu jogo: \",end=\"\\n\\n\\n\")\n",
        "print(\"1 - Forca ou 2 - Adivinhação\", end=\"\\n\\n\")\n",
        "jogo = int(input(\"Qual jogo? \"))\n",
        "if (jogo == 1):\n",
        "  print(\"Jogando Forca\")\n",
        "  forca.jogar()\n",
        "elif (jogo == 2):\n",
        "   print(\"Jogando Adivinhação\")\n",
        "   adivinhacao"
      ],
      "execution_count": 27,
      "outputs": [
        {
          "output_type": "stream",
          "text": [
            "Escolha seu jogo: \n",
            "\n",
            "\n",
            "1 - Forca ou 2 - Adivinhação\n",
            "\n",
            "Qual jogo? 2\n",
            "Jogando Adivinhação\n"
          ],
          "name": "stdout"
        }
      ]
    },
    {
      "cell_type": "code",
      "metadata": {
        "id": "AbtZ-dPybmVe"
      },
      "source": [
        ""
      ],
      "execution_count": 18,
      "outputs": []
    }
  ]
}