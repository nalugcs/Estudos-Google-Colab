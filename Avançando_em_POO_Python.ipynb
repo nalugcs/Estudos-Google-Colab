{
  "nbformat": 4,
  "nbformat_minor": 0,
  "metadata": {
    "colab": {
      "name": "Avançando em POO - Python.ipynb",
      "provenance": [],
      "authorship_tag": "ABX9TyM1meFPWU3Ecnoii019aUiF",
      "include_colab_link": true
    },
    "kernelspec": {
      "name": "python3",
      "display_name": "Python 3"
    },
    "language_info": {
      "name": "python"
    }
  },
  "cells": [
    {
      "cell_type": "markdown",
      "metadata": {
        "id": "view-in-github",
        "colab_type": "text"
      },
      "source": [
        "<a href=\"https://colab.research.google.com/github/nalugcs/Estudos-Google-Colab/blob/Estudos/Avan%C3%A7ando_em_POO_Python.ipynb\" target=\"_parent\"><img src=\"https://colab.research.google.com/assets/colab-badge.svg\" alt=\"Open In Colab\"/></a>"
      ]
    },
    {
      "cell_type": "markdown",
      "metadata": {
        "id": "DVcSPaarB4Rg"
      },
      "source": [
        "#**Avançando em POO - Python com Herança e Polimorfismo**\n",
        "\n",
        "####Agosto de 2021\n",
        "#####Ana Luiza Gonçalves César"
      ]
    },
    {
      "cell_type": "code",
      "metadata": {
        "colab": {
          "base_uri": "https://localhost:8080/"
        },
        "id": "LWa-YhyyBxg9",
        "outputId": "7d2dec73-ea67-4f52-9670-3ff0fcddb258"
      },
      "source": [
        "class Filme:\n",
        "  pass\n",
        "\n",
        "vingadores = Filme()\n",
        "print(vingadores)"
      ],
      "execution_count": 1,
      "outputs": [
        {
          "output_type": "stream",
          "text": [
            "<__main__.Filme object at 0x7f300058b4d0>\n"
          ],
          "name": "stdout"
        }
      ]
    },
    {
      "cell_type": "code",
      "metadata": {
        "colab": {
          "base_uri": "https://localhost:8080/"
        },
        "id": "wNh1smmaDyCW",
        "outputId": "263dd122-c12f-4bcc-97a4-e98d1b0e0dbf"
      },
      "source": [
        "class Filme:\n",
        "  def __init__(self,nome,ano,duracao):\n",
        "    self.nome=nome.title()\n",
        "    self.ano=ano\n",
        "    self.duracao=duracao\n",
        "    self.likes = 0\n",
        "\n",
        "  def dar_like(self):\n",
        "    self.likes += 1\n",
        "\n",
        "  \n",
        "\n",
        "filme1 = Filme('vingadores',2018,160)\n",
        "print(filme1.nome)"
      ],
      "execution_count": 12,
      "outputs": [
        {
          "output_type": "stream",
          "text": [
            "Vingadores\n"
          ],
          "name": "stdout"
        }
      ]
    },
    {
      "cell_type": "code",
      "metadata": {
        "colab": {
          "base_uri": "https://localhost:8080/"
        },
        "id": "nH871B7dEPX_",
        "outputId": "7908ca7d-ce59-4cdb-aace-3c9291bacc07"
      },
      "source": [
        "class Serie:\n",
        "  def __init__(self,nome,ano,temporadas):\n",
        "    self.nome=nome.title()\n",
        "    self.ano=ano\n",
        "    self.temporadas=temporadas\n",
        "    self.likes = 0\n",
        "\n",
        "  def dar_like(self):\n",
        "    self.likes += 1\n",
        "\n",
        "serie1 = Serie('Dark',2019,2)\n",
        "print(\"A série {} foi lançada em {} e tem {} temporadas\".format(serie1.nome,serie1.ano,serie1.temporadas))"
      ],
      "execution_count": 14,
      "outputs": [
        {
          "output_type": "stream",
          "text": [
            "A série Dark foi lançada em 2019 e tem 2 temporadas\n"
          ],
          "name": "stdout"
        }
      ]
    },
    {
      "cell_type": "code",
      "metadata": {
        "colab": {
          "base_uri": "https://localhost:8080/"
        },
        "id": "yUYJT1d-ExZZ",
        "outputId": "34ea5e77-48d5-4511-9832-179356cee2b3"
      },
      "source": [
        "filme1.dar_like()\n",
        "filme1.dar_like()\n",
        "print(\"O filme {} agora tem {} likes\".format(filme1.nome,filme1.likes))"
      ],
      "execution_count": 16,
      "outputs": [
        {
          "output_type": "stream",
          "text": [
            "O filme Vingadores agora tem 2 likes\n"
          ],
          "name": "stdout"
        }
      ]
    },
    {
      "cell_type": "code",
      "metadata": {
        "id": "biwXvhUyGlMg"
      },
      "source": [
        "class Filme:\n",
        "  def __init__(self,nome,ano,duracao):\n",
        "    self.__nome=nome.title()\n",
        "    self.ano=ano\n",
        "    self.duracao=duracao\n",
        "    self.__likes = 0\n",
        "\n",
        "  @property\n",
        "  def likes(self):\n",
        "    return self.__likes\n",
        "  \n",
        "  @property\n",
        "  def nome(self):\n",
        "    return self.__nome\n",
        "\n",
        "  @nome.setter\n",
        "  def nome(self,novo_nome):\n",
        "    self.__nome = novo_nome\n",
        "  \n",
        "  def dar_like(self):\n",
        "    self.__likes += 1\n",
        "\n",
        "class Serie:\n",
        "  def __init__(self,nome,ano,temporadas):\n",
        "    self.__nome=nome.title()\n",
        "    self.ano=ano\n",
        "    self.temporadas=temporadas\n",
        "    self.__likes = 0\n",
        "\n",
        "  @property\n",
        "  def likes(self):\n",
        "    return self.__likes\n",
        "  \n",
        "  @property\n",
        "  def nome(self):\n",
        "    return self.__nome\n",
        "\n",
        "  @nome.setter\n",
        "  def nome(self,novo_nome):\n",
        "    self.__nome = novo_nome\n",
        "\n",
        "  def dar_like(self):\n",
        "    self.__likes += 1"
      ],
      "execution_count": 18,
      "outputs": []
    },
    {
      "cell_type": "code",
      "metadata": {
        "colab": {
          "base_uri": "https://localhost:8080/"
        },
        "id": "3n7xYFArG9j8",
        "outputId": "e5722595-4077-45d1-f9ef-9c9849538544"
      },
      "source": [
        "print(\"O filme {} agora tem {} likes\".format(filme1.nome,filme1.likes))"
      ],
      "execution_count": 19,
      "outputs": [
        {
          "output_type": "stream",
          "text": [
            "O filme Vingadores agora tem 2 likes\n"
          ],
          "name": "stdout"
        }
      ]
    },
    {
      "cell_type": "code",
      "metadata": {
        "colab": {
          "base_uri": "https://localhost:8080/"
        },
        "id": "f1tIGkpGIImQ",
        "outputId": "8828ee02-0a14-455e-f64c-cccb7248d364"
      },
      "source": [
        "print(\"A série {} foi lançada em {} e tem {} temporadas\".format(serie1.nome,serie1.ano,serie1.temporadas))"
      ],
      "execution_count": 20,
      "outputs": [
        {
          "output_type": "stream",
          "text": [
            "A série Dark foi lançada em 2019 e tem 2 temporadas\n"
          ],
          "name": "stdout"
        }
      ]
    },
    {
      "cell_type": "code",
      "metadata": {
        "colab": {
          "base_uri": "https://localhost:8080/"
        },
        "id": "wJEdqXxtIKXP",
        "outputId": "3ab56fb2-80ca-4d5f-bef7-184de161ddaa"
      },
      "source": [
        "print(filme1.nome)"
      ],
      "execution_count": 21,
      "outputs": [
        {
          "output_type": "stream",
          "text": [
            "Vingadores\n"
          ],
          "name": "stdout"
        }
      ]
    },
    {
      "cell_type": "code",
      "metadata": {
        "colab": {
          "base_uri": "https://localhost:8080/"
        },
        "id": "aaJWLFaXINCv",
        "outputId": "294da61a-8ab1-40c6-9f69-14480de7f48e"
      },
      "source": [
        "filme1.nome='Novo Vingadores'\n",
        "print(filme1.nome)"
      ],
      "execution_count": 22,
      "outputs": [
        {
          "output_type": "stream",
          "text": [
            "Novo Vingadores\n"
          ],
          "name": "stdout"
        }
      ]
    },
    {
      "cell_type": "code",
      "metadata": {
        "id": "yIUlWGILIU2n"
      },
      "source": [
        "#Reuso de código por herança:\n",
        "\n",
        "class Programa:\n",
        "    def __init__(self,nome,ano):\n",
        "      #deixou apenas um \"_\" para não atrapalhar outras classes que puxam essas variáveis\n",
        "      self._nome=nome.title()\n",
        "      self.ano=ano\n",
        "      self._likes = 0\n",
        "\n",
        "    @property\n",
        "    def likes(self):\n",
        "      return self._likes\n",
        "    \n",
        "    @property\n",
        "    def nome(self):\n",
        "      return self._nome\n",
        "\n",
        "    @nome.setter\n",
        "    def nome(self,novo_nome):\n",
        "      self._nome = novo_nome\n",
        "    \n",
        "    def dar_like(self):\n",
        "      self._likes += 1\n",
        "\n",
        "    #def imprime(self):\n",
        "     # print(f'{self._nome} - {self.ano} - {self._likes} Likes')\n",
        "\n",
        "#coloca entre parente onde herda as variáveis\n",
        "class Filme(Programa):\n",
        "  def __init__(self,nome,ano,duracao):\n",
        "    #vem da herança os dados que estão no super()\n",
        "    super().__init__(nome,ano)\n",
        "    self.duracao=duracao\n",
        "\n",
        "  def imprime(self):\n",
        "    print(f'Duração: {self.duracao} min - {self._nome} - {self.ano} - {self._likes} Likes')\n",
        "\n",
        "\n",
        "class Serie(Programa):\n",
        "  def __init__(self,nome,ano,temporadas):\n",
        "    super().__init__(nome,ano)\n",
        "    self.temporadas=temporadas\n",
        "\n",
        "  def imprime(self):\n",
        "    print(f'Temporadas: {self.temporadas} - {self._nome} - {self.ano} - {self._likes} Likes')"
      ],
      "execution_count": 48,
      "outputs": []
    },
    {
      "cell_type": "code",
      "metadata": {
        "colab": {
          "base_uri": "https://localhost:8080/"
        },
        "id": "Ghcvyt_kLGkt",
        "outputId": "33d3876c-e083-4cb6-a65f-534255407f86"
      },
      "source": [
        "serie1 = Serie('Dark',2019,2)\n",
        "filme1 = Filme('vingadores',2018,160)\n",
        "\n",
        "filmes_e_series = [filme1, serie1]\n",
        "filmes_e_series"
      ],
      "execution_count": 49,
      "outputs": [
        {
          "output_type": "execute_result",
          "data": {
            "text/plain": [
              "[<__main__.Filme at 0x7f2ff68d4150>, <__main__.Serie at 0x7f2ff68d4890>]"
            ]
          },
          "metadata": {
            "tags": []
          },
          "execution_count": 49
        }
      ]
    },
    {
      "cell_type": "code",
      "metadata": {
        "colab": {
          "base_uri": "https://localhost:8080/"
        },
        "id": "qBQ9y_8dNct9",
        "outputId": "1e2063ef-1df4-4132-fc35-efa6ce724c84"
      },
      "source": [
        "#Pode ser feito por conta do Polimorfismo\n",
        "\n",
        "for programa in filmes_e_series:\n",
        "  print(f'{programa.nome}')"
      ],
      "execution_count": 50,
      "outputs": [
        {
          "output_type": "stream",
          "text": [
            "Vingadores\n",
            "Dark\n"
          ],
          "name": "stdout"
        }
      ]
    },
    {
      "cell_type": "code",
      "metadata": {
        "colab": {
          "base_uri": "https://localhost:8080/"
        },
        "id": "ozk6bgc1Nrv7",
        "outputId": "de62df55-aaa8-4d5a-c841-adfd09bd71d1"
      },
      "source": [
        "for programa in filmes_e_series:\n",
        "  detalhes = programa.duracao if hasattr(programa,'duracao') else programa.temporadas\n",
        "  #hasattr é para saber se tem atributo\n",
        "  print(f'{programa.nome} - {detalhes}')"
      ],
      "execution_count": 40,
      "outputs": [
        {
          "output_type": "stream",
          "text": [
            "Vingadores - 160\n",
            "Dark - 2\n"
          ],
          "name": "stdout"
        }
      ]
    },
    {
      "cell_type": "code",
      "metadata": {
        "colab": {
          "base_uri": "https://localhost:8080/"
        },
        "id": "w9CqmI5-OwgO",
        "outputId": "baf901fb-cd93-4d5b-c0df-e980bece96ed"
      },
      "source": [
        "#Melhorando a linha anterior para reduzir os IFs: a configuração tem que vir diretamente da classe Serie e Filme \n",
        "#Passo 1: def imprime(self)\n",
        "#Replica para Filme e Serie\n",
        "\n",
        "for programa in filmes_e_series:\n",
        "  programa.imprime()"
      ],
      "execution_count": 51,
      "outputs": [
        {
          "output_type": "stream",
          "text": [
            "Duração: 160 min - Vingadores - 2018 - 0 Likes\n",
            "Temporadas: 2 - Dark - 2019 - 0 Likes\n"
          ],
          "name": "stdout"
        }
      ]
    },
    {
      "cell_type": "code",
      "metadata": {
        "id": "Ix1Y9QSiR1Hs"
      },
      "source": [
        "#Métodos Especiais: __str__\n",
        "\n",
        "class Programa:\n",
        "    def __init__(self,nome,ano):\n",
        "      #deixou apenas um \"_\" para não atrapalhar outras classes que puxam essas variáveis\n",
        "      self._nome=nome.title()\n",
        "      self.ano=ano\n",
        "      self._likes = 0\n",
        "\n",
        "    @property\n",
        "    def likes(self):\n",
        "      return self._likes\n",
        "    \n",
        "    @property\n",
        "    def nome(self):\n",
        "      return self._nome\n",
        "\n",
        "    @nome.setter\n",
        "    def nome(self,novo_nome):\n",
        "      self._nome = novo_nome\n",
        "    \n",
        "    def dar_like(self):\n",
        "      self._likes += 1\n",
        "\n",
        "    def __str__(self):\n",
        "      return f'{self._nome} - {self.ano} - {self._likes} Likes'\n",
        "\n",
        "#coloca entre parente onde herda as variáveis\n",
        "class Filme(Programa):\n",
        "  def __init__(self,nome,ano,duracao):\n",
        "    #vem da herança os dados que estão no super()\n",
        "    super().__init__(nome,ano)\n",
        "    self.duracao=duracao\n",
        "\n",
        "  def __str__(self):\n",
        "    return f'Duração: {self.duracao} min - {self._nome} - {self.ano} - {self._likes} Likes'\n",
        "\n",
        "\n",
        "class Serie(Programa):\n",
        "  def __init__(self,nome,ano,temporadas):\n",
        "    super().__init__(nome,ano)\n",
        "    self.temporadas=temporadas\n",
        "\n",
        "  def __str__(self):\n",
        "    return f'Temporadas: {self.temporadas} - {self._nome} - {self.ano} - {self._likes} Likes'"
      ],
      "execution_count": 76,
      "outputs": []
    },
    {
      "cell_type": "code",
      "metadata": {
        "id": "4MYRWPJZTPyi"
      },
      "source": [
        "serie1 = Serie('Dark',2019,2)\n",
        "filme1 = Filme('vingadores',2018,160)"
      ],
      "execution_count": 77,
      "outputs": []
    },
    {
      "cell_type": "code",
      "metadata": {
        "colab": {
          "base_uri": "https://localhost:8080/"
        },
        "id": "llcfSC4vTjkU",
        "outputId": "05cc3623-a34b-49e4-af55-fddc0e2db9c6"
      },
      "source": [
        "filmes_e_series = [filme1, serie1]\n",
        "filmes_e_series"
      ],
      "execution_count": 78,
      "outputs": [
        {
          "output_type": "execute_result",
          "data": {
            "text/plain": [
              "[<__main__.Filme at 0x7f2ffa91e090>, <__main__.Serie at 0x7f2ffa91e190>]"
            ]
          },
          "metadata": {
            "tags": []
          },
          "execution_count": 78
        }
      ]
    },
    {
      "cell_type": "code",
      "metadata": {
        "colab": {
          "base_uri": "https://localhost:8080/"
        },
        "id": "DanLGrRhTmZr",
        "outputId": "bcc7fe53-369f-4a70-f255-819ed3273a6d"
      },
      "source": [
        "for programa in filmes_e_series:\n",
        "  print(programa)"
      ],
      "execution_count": 79,
      "outputs": [
        {
          "output_type": "stream",
          "text": [
            "Duração: 160 min - Vingadores - 2018 - 0 Likes\n",
            "Temporadas: 2 - Dark - 2019 - 0 Likes\n"
          ],
          "name": "stdout"
        }
      ]
    },
    {
      "cell_type": "code",
      "metadata": {
        "id": "SMoDXFBlToS8"
      },
      "source": [
        "#Adicionando Classe Playlist:\n",
        "\n",
        "class Programa:\n",
        "    def __init__(self,nome,ano):\n",
        "      #deixou apenas um \"_\" para não atrapalhar outras classes que puxam essas variáveis\n",
        "      self._nome=nome.title()\n",
        "      self.ano=ano\n",
        "      self._likes = 0\n",
        "\n",
        "    @property\n",
        "    def likes(self):\n",
        "      return self._likes\n",
        "    \n",
        "    @property\n",
        "    def nome(self):\n",
        "      return self._nome\n",
        "\n",
        "    @nome.setter\n",
        "    def nome(self,novo_nome):\n",
        "      self._nome = novo_nome\n",
        "    \n",
        "    def dar_like(self):\n",
        "      self._likes += 1\n",
        "\n",
        "    def __str__(self):\n",
        "      return f'{self._nome} - {self.ano} - {self._likes} Likes'\n",
        "\n",
        "#coloca entre parente onde herda as variáveis\n",
        "class Filme(Programa):\n",
        "  def __init__(self,nome,ano,duracao):\n",
        "    #vem da herança os dados que estão no super()\n",
        "    super().__init__(nome,ano)\n",
        "    self.duracao=duracao\n",
        "\n",
        "  def __str__(self):\n",
        "    return f'Duração: {self.duracao} min - {self._nome} - {self.ano} - {self._likes} Likes'\n",
        "\n",
        "\n",
        "class Serie(Programa):\n",
        "  def __init__(self,nome,ano,temporadas):\n",
        "    super().__init__(nome,ano)\n",
        "    self.temporadas=temporadas\n",
        "\n",
        "  def __str__(self):\n",
        "    return f'Temporadas: {self.temporadas} - {self._nome} - {self.ano} - {self._likes} Likes'\n",
        "\n",
        "class Playlist:\n",
        "  def __init__(self,nome,programas):\n",
        "    self.nome = nome\n",
        "    self.programas = programas\n",
        "\n",
        "  def tamanho(self):\n",
        "    return len(self.programas)"
      ],
      "execution_count": 80,
      "outputs": []
    },
    {
      "cell_type": "code",
      "metadata": {
        "colab": {
          "base_uri": "https://localhost:8080/"
        },
        "id": "aA-83baHVWQV",
        "outputId": "c3f82dc4-9451-4f32-dfab-f3387651245d"
      },
      "source": [
        "serie1 = Serie('Dark',2019,2)\n",
        "filme1 = Filme('vingadores',2018,160)\n",
        "filme2 = Filme('todo mundo em panico', 1999, 100)\n",
        "serie2 = Serie('demolidor',2016,2)\n",
        "\n",
        "filme1.dar_like()\n",
        "filme2.dar_like()\n",
        "\n",
        "playlist_fim_de_semana = [filme1, serie1, filme2, serie2]\n",
        "playlist_fim_de_semana"
      ],
      "execution_count": 82,
      "outputs": [
        {
          "output_type": "execute_result",
          "data": {
            "text/plain": [
              "[<__main__.Filme at 0x7f2ff681a4d0>,\n",
              " <__main__.Serie at 0x7f2ff6e52b90>,\n",
              " <__main__.Filme at 0x7f2ff681af10>,\n",
              " <__main__.Serie at 0x7f2ff681ab10>]"
            ]
          },
          "metadata": {
            "tags": []
          },
          "execution_count": 82
        }
      ]
    },
    {
      "cell_type": "code",
      "metadata": {
        "id": "1LLoQTR0VuNb"
      },
      "source": [
        "fim_de_semana = Playlist('Fim de Semana', playlist_fim_de_semana)"
      ],
      "execution_count": 83,
      "outputs": []
    },
    {
      "cell_type": "code",
      "metadata": {
        "colab": {
          "base_uri": "https://localhost:8080/"
        },
        "id": "ojuoyB11V9dz",
        "outputId": "13a04981-dbf8-43c3-8122-eb6afa04b3fb"
      },
      "source": [
        "#Não se faz loop com Playlist pois não é interável\n",
        "\n",
        "for programa in fim_de_semana.programas:\n",
        "  print(programa)"
      ],
      "execution_count": 84,
      "outputs": [
        {
          "output_type": "stream",
          "text": [
            "Duração: 160 min - Vingadores - 2018 - 1 Likes\n",
            "Temporadas: 2 - Dark - 2019 - 0 Likes\n",
            "Duração: 100 min - Todo Mundo Em Panico - 1999 - 1 Likes\n",
            "Temporadas: 2 - Demolidor - 2016 - 0 Likes\n"
          ],
          "name": "stdout"
        }
      ]
    },
    {
      "cell_type": "code",
      "metadata": {
        "id": "dm6Xd6FyWUBa"
      },
      "source": [
        "#Transformando Playlist em objeto interável, como list\n",
        "\n",
        "\n",
        "#Adicionando Classe Playlist:\n",
        "\n",
        "class Programa:\n",
        "    def __init__(self,nome,ano):\n",
        "      #deixou apenas um \"_\" para não atrapalhar outras classes que puxam essas variáveis\n",
        "      self._nome=nome.title()\n",
        "      self.ano=ano\n",
        "      self._likes = 0\n",
        "\n",
        "    @property\n",
        "    def likes(self):\n",
        "      return self._likes\n",
        "    \n",
        "    @property\n",
        "    def nome(self):\n",
        "      return self._nome\n",
        "\n",
        "    @nome.setter\n",
        "    def nome(self,novo_nome):\n",
        "      self._nome = novo_nome\n",
        "    \n",
        "    def dar_like(self):\n",
        "      self._likes += 1\n",
        "\n",
        "    def __str__(self):\n",
        "      return f'{self._nome} - {self.ano} - {self._likes} Likes'\n",
        "\n",
        "#coloca entre parente onde herda as variáveis\n",
        "class Filme(Programa):\n",
        "  def __init__(self,nome,ano,duracao):\n",
        "    #vem da herança os dados que estão no super()\n",
        "    super().__init__(nome,ano)\n",
        "    self.duracao=duracao\n",
        "\n",
        "  def __str__(self):\n",
        "    return f'Duração: {self.duracao} min - {self._nome} - {self.ano} - {self._likes} Likes'\n",
        "\n",
        "\n",
        "class Serie(Programa):\n",
        "  def __init__(self,nome,ano,temporadas):\n",
        "    super().__init__(nome,ano)\n",
        "    self.temporadas=temporadas\n",
        "\n",
        "  def __str__(self):\n",
        "    return f'Temporadas: {self.temporadas} - {self._nome} - {self.ano} - {self._likes} Likes'\n",
        "\n",
        "class Playlist(list):\n",
        "  def __init__(self,nome,programas):\n",
        "    self.nome = nome\n",
        "    super().__init__(programas) #set a lista de programas por herança"
      ],
      "execution_count": 85,
      "outputs": []
    },
    {
      "cell_type": "code",
      "metadata": {
        "colab": {
          "base_uri": "https://localhost:8080/"
        },
        "id": "D2tMjmojXLUk",
        "outputId": "550a2e13-8a1c-474f-9898-986259cf354d"
      },
      "source": [
        "serie1 = Serie('Dark',2019,2)\n",
        "filme1 = Filme('vingadores',2018,160)\n",
        "filme2 = Filme('todo mundo em panico', 1999, 100)\n",
        "serie2 = Serie('demolidor',2016,2)\n",
        "\n",
        "filme1.dar_like()\n",
        "filme2.dar_like()\n",
        "\n",
        "playlist_fim_de_semana = [filme1, serie1, filme2, serie2]\n",
        "playlist_fim_de_semana"
      ],
      "execution_count": 86,
      "outputs": [
        {
          "output_type": "execute_result",
          "data": {
            "text/plain": [
              "[<__main__.Filme at 0x7f2ff6886c10>,\n",
              " <__main__.Serie at 0x7f2ff6886450>,\n",
              " <__main__.Filme at 0x7f2ff6886710>,\n",
              " <__main__.Serie at 0x7f2ff6886550>]"
            ]
          },
          "metadata": {
            "tags": []
          },
          "execution_count": 86
        }
      ]
    },
    {
      "cell_type": "code",
      "metadata": {
        "id": "FIpEtEIcXNkc"
      },
      "source": [
        "fim_de_semana = Playlist('Fim de Semana', playlist_fim_de_semana)"
      ],
      "execution_count": 87,
      "outputs": []
    },
    {
      "cell_type": "code",
      "metadata": {
        "colab": {
          "base_uri": "https://localhost:8080/"
        },
        "id": "bkqWP8ceXPk6",
        "outputId": "97e583fb-e94d-480a-dc21-34ce727f4faf"
      },
      "source": [
        "#funciona somente com o nome por ser interável (list)\n",
        "\n",
        "for programa in fim_de_semana:\n",
        "  print(programa)"
      ],
      "execution_count": 88,
      "outputs": [
        {
          "output_type": "stream",
          "text": [
            "Duração: 160 min - Vingadores - 2018 - 1 Likes\n",
            "Temporadas: 2 - Dark - 2019 - 0 Likes\n",
            "Duração: 100 min - Todo Mundo Em Panico - 1999 - 1 Likes\n",
            "Temporadas: 2 - Demolidor - 2016 - 0 Likes\n"
          ],
          "name": "stdout"
        }
      ]
    },
    {
      "cell_type": "code",
      "metadata": {
        "colab": {
          "base_uri": "https://localhost:8080/"
        },
        "id": "KYeXOZ_rXTYT",
        "outputId": "6ceb815e-11d5-4c5b-ee3d-01fc2f8b945c"
      },
      "source": [
        "#por ser list não precisa de um método apenas para tamnho:\n",
        "\n",
        "print(\"Tamanho da Playlist: {}\".format(len(fim_de_semana)))"
      ],
      "execution_count": 91,
      "outputs": [
        {
          "output_type": "stream",
          "text": [
            "Tamanho da Playlist: 4\n"
          ],
          "name": "stdout"
        }
      ]
    },
    {
      "cell_type": "code",
      "metadata": {
        "colab": {
          "base_uri": "https://localhost:8080/"
        },
        "id": "2msVITFsX_07",
        "outputId": "bfc1203e-02ae-43d3-d0ae-0d5eb7b3c17f"
      },
      "source": [
        "#verificar a existencia de algo na lista (por ser list - interável):\n",
        "\n",
        "print(\"True ou False has Filme 1 in Fim de Semana: {}\".format(filme1 in fim_de_semana))"
      ],
      "execution_count": 103,
      "outputs": [
        {
          "output_type": "stream",
          "text": [
            "True ou False has Filme 1 in Fim de Semana: True\n"
          ],
          "name": "stdout"
        }
      ]
    },
    {
      "cell_type": "markdown",
      "metadata": {
        "id": "_u3sYoWea0Fv"
      },
      "source": [
        "###**Duck Typing**"
      ]
    },
    {
      "cell_type": "code",
      "metadata": {
        "id": "NLfaUvKSaNJ7"
      },
      "source": [
        ""
      ],
      "execution_count": null,
      "outputs": []
    }
  ]
}